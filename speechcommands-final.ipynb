{
 "cells": [
  {
   "cell_type": "code",
   "execution_count": null,
   "id": "db36511d",
   "metadata": {},
   "outputs": [],
   "source": [
    "#FeaturesDict:'audio', 'label'"
   ]
  },
  {
   "cell_type": "code",
   "execution_count": 1,
   "id": "58b9b730",
   "metadata": {},
   "outputs": [],
   "source": [
    "import torch\n",
    "import torchaudio \n",
    "import torch.nn as nn\n",
    "import torch.nn.functional as F\n",
    "import pandas\n",
    "import tqdm\n",
    "from torch.nn.utils.rnn import pad_sequence\n",
    "from nnAudio.features.mel import MelSpectrogram\n",
    "import matplotlib.pyplot as plt\n",
    "from IPython.display import Audio\n",
    "\n",
    "str2int = \\\n",
    "{'backward': 0,\n",
    " 'bed': 1,\n",
    " 'bird': 2,\n",
    " 'cat': 3,\n",
    " 'dog': 4,\n",
    " 'down': 5,\n",
    " 'eight': 6,\n",
    " 'five': 7,\n",
    " 'follow': 8,\n",
    " 'forward': 9,\n",
    " 'four': 10,\n",
    " 'go': 11,\n",
    " 'happy': 12,\n",
    " 'house': 13,\n",
    " 'learn': 14,\n",
    " 'left': 15,\n",
    " 'marvin': 16,\n",
    " 'nine': 17,\n",
    " 'no': 18,\n",
    " 'off': 19,\n",
    " 'on': 20,\n",
    " 'one': 21,\n",
    " 'right': 22,\n",
    " 'seven': 23,\n",
    " 'sheila': 24,\n",
    " 'six': 25,\n",
    " 'stop': 26,\n",
    " 'three': 27,\n",
    " 'tree': 28,\n",
    " 'two': 29,\n",
    " 'up': 30,\n",
    " 'visual': 31,\n",
    " 'wow': 32,\n",
    " 'yes': 33,\n",
    " 'zero': 34\n",
    "}\n",
    "\n",
    "#create dict from dataset_label to int"
   ]
  },
  {
   "cell_type": "code",
   "execution_count": 2,
   "id": "45975177",
   "metadata": {},
   "outputs": [],
   "source": [
    "device = 'cpu'"
   ]
  },
  {
   "cell_type": "code",
   "execution_count": 3,
   "id": "388a1ed6",
   "metadata": {},
   "outputs": [],
   "source": [
    "#process data before put it in dataloader\n",
    "#source from https://github.com/KinWaiCheuk/pytorch_template/blob/610a207aab988818f35af36d991dcaaaa9fa1ffe/utils/text_processing.py#L108\n",
    "\n",
    "def data_processing(data):\n",
    "    waveforms = []\n",
    "    labels = []\n",
    "    \n",
    "    for batch in data:\n",
    "        # batch[0].shape = (1, audio_len) tensor\n",
    "        waveforms.append(batch[0].squeeze(0)) #after squeeze => (audio_len) tensor # remove batch dim\n",
    "        # batch[2] = string\n",
    "        # str2int = dict\n",
    "        # str2int[batch[2]] = int\n",
    "        #torch.Tensor([str2int[batch[2]]]) = tensor\n",
    "        label = torch.Tensor([str2int[batch[2]]]) # batch[2] is the label key #str --> int --> tensor\n",
    "        ## print(f\"{label=}\")\n",
    "        labels.append(label)\n",
    "        \n",
    "    \n",
    "        \n",
    "    waveform_padded = nn.utils.rnn.pad_sequence(waveforms, batch_first=True)  \n",
    "    labels = nn.utils.rnn.pad_sequence(labels, batch_first=True)\n",
    "\n",
    "    \n",
    "    output_batch = {'waveforms': waveform_padded, # it is waveforms instead of spectrograms, this tiny hack can make the code work with existing training function\n",
    "             'labels': labels,\n",
    "             }\n",
    "    return output_batch\n",
    "\n",
    "#after data processing, return a dict with waveforms [torch.Size: 3 dimensions] and labels"
   ]
  },
  {
   "cell_type": "code",
   "execution_count": 4,
   "id": "854ee038",
   "metadata": {},
   "outputs": [
    {
     "name": "stdout",
     "output_type": "stream",
     "text": [
      "STFT kernels created, time used = 0.1259 seconds\n",
      "STFT filter created, time used = 0.0019 seconds\n",
      "Mel filter created, time used = 0.0020 seconds\n"
     ]
    },
    {
     "data": {
      "text/plain": [
       "MelSpectrogram(\n",
       "  Mel filter banks size = (100, 1025), trainable_mel=False\n",
       "  (stft): STFT(n_fft=2048, Fourier Kernel size=(1025, 1, 2048), iSTFT=False, trainable=False)\n",
       ")"
      ]
     },
     "execution_count": 4,
     "metadata": {},
     "output_type": "execute_result"
    }
   ],
   "source": [
    "mel_layer = MelSpectrogram(sr=16000, \n",
    "                           n_fft=2048,\n",
    "                           win_length=None,\n",
    "                           n_mels=100, \n",
    "                           hop_length=512,\n",
    "                           window='hann',\n",
    "                           center=True,\n",
    "                           pad_mode='reflect',\n",
    "                           power=2.0,\n",
    "                           htk=False,\n",
    "                           fmin=0.0,\n",
    "                           fmax=None,\n",
    "                           norm=1,\n",
    "                           trainable_mel=False,\n",
    "                           trainable_STFT=False,\n",
    "                           verbose=True,)\n",
    "#sr: sampling rate, 1s take how many datapoint\n",
    "#n_mels: the more , the better spectrogram\n",
    "#hop_length: distance of window move\n",
    "mel_layer.to(device)"
   ]
  },
  {
   "cell_type": "code",
   "execution_count": 5,
   "id": "2aaf771a",
   "metadata": {},
   "outputs": [],
   "source": [
    "batch_size = 8"
   ]
  },
  {
   "cell_type": "code",
   "execution_count": 6,
   "id": "98d4e77a",
   "metadata": {
    "scrolled": true
   },
   "outputs": [],
   "source": [
    "trainset = torchaudio.datasets.SPEECHCOMMANDS('./',url='speech_commands_v0.02',folder_in_archive='SpeechCommands',download = False, subset = 'training')\n",
    "testset = torchaudio.datasets.SPEECHCOMMANDS('./',url='speech_commands_v0.02',folder_in_archive='SpeechCommands',download = False, subset = 'testing')\n",
    "#trainset Returns (waveform[0], sample_rate[1], label[2], speaker_id, utterance_number)"
   ]
  },
  {
   "cell_type": "code",
   "execution_count": 7,
   "id": "3bc9069e",
   "metadata": {},
   "outputs": [],
   "source": [
    "trainloader = torch.utils.data.DataLoader(trainset,\n",
    "                              batch_size=batch_size,\n",
    "                              collate_fn=lambda x: data_processing(x))\n",
    "\n",
    "#speech_command_transform = Speech_Command_label_Transform(trainset)\n",
    "testloader = torch.utils.data.DataLoader(testset,\n",
    "                              batch_size=batch_size,\n",
    "                              collate_fn=lambda x: data_processing(x))"
   ]
  },
  {
   "cell_type": "code",
   "execution_count": 8,
   "id": "1f36fc78",
   "metadata": {},
   "outputs": [],
   "source": [
    "import torch.nn as nn\n",
    "import torch.nn.functional as F\n",
    "class Net(nn.Module):\n",
    "    def __init__(self):\n",
    "        super().__init__()\n",
    "        self.conv1 = nn.Conv2d(1,6,5)    \n",
    "        self.conv2 = nn.Conv2d(6,16,5)\n",
    "        self.fc1 = nn.Linear(16*22*5,120) \n",
    "        #have to follow input, x.shape before flattern: \n",
    "        self.fc2 = nn.Linear(120,84)\n",
    "        self.fc3 = nn.Linear(84,35)\n",
    "        \n",
    "    def forward(self,x):\n",
    "        #print(f\"{x.shape=}\")\n",
    "        x = F.max_pool2d(F.relu(self.conv1(x)), (2, 2))\n",
    "        x = F.max_pool2d(F.relu(self.conv2(x)),2)\n",
    "        #print(f'before flatten x.shape = {x.shape}')\n",
    "        x = torch.flatten(x,1)\n",
    "        #print(f'x.shape = {x.shape}')\n",
    "        x = F.relu(self.fc1(x))\n",
    "        x = F.relu(self.fc2(x))\n",
    "        x = self.fc3(x)\n",
    "        return x\n",
    "\n",
    "net = Net()\n",
    "#define the network\n",
    "\n",
    "# print(f'before flatten x.shape = {x.shape}')\n",
    "# print(f'x.shape = {x.shape}')"
   ]
  },
  {
   "cell_type": "code",
   "execution_count": 9,
   "id": "feb0f750",
   "metadata": {},
   "outputs": [],
   "source": [
    "net = net.to(device)"
   ]
  },
  {
   "cell_type": "code",
   "execution_count": 10,
   "id": "c051fd5d",
   "metadata": {},
   "outputs": [],
   "source": [
    "x = torch.randn(4, 1, 229,50).to(device)"
   ]
  },
  {
   "cell_type": "code",
   "execution_count": 11,
   "id": "abe4fa3e",
   "metadata": {},
   "outputs": [],
   "source": [
    "import torch.optim as optim\n",
    "\n",
    "criterion = nn.CrossEntropyLoss()\n",
    "optimizer = optim.SGD(net.parameters(), lr=0.001, momentum=0.9)\n",
    "\n",
    "#define loss function and optimizer\n",
    "\n",
    "#normally use cross-entropyloss for classification problem\n",
    "#nn.MSELoss for regression problem\n"
   ]
  },
  {
   "cell_type": "code",
   "execution_count": 12,
   "id": "4f8cb0f7",
   "metadata": {},
   "outputs": [],
   "source": [
    "#for name, i in net.named_parameters():\n",
    "    #print(f\"{name}\")\n",
    "    \n",
    "#list out the parameters that can be trained"
   ]
  },
  {
   "cell_type": "code",
   "execution_count": 13,
   "id": "6b6b865f",
   "metadata": {},
   "outputs": [
    {
     "name": "stderr",
     "output_type": "stream",
     "text": [
      "100%|████████████████████████████████████████████████████████████████| 10606/10606 [01:34<00:00, 111.94it/s]\n",
      "100%|████████████████████████████████████████████████████████████████████████████████████████████| 10606/10606 [01:32<00:00, 114.80it/s]\n"
     ]
    }
   ],
   "source": [
    "for epoch in range(2):\n",
    "    Loss = 0\n",
    "    \n",
    "    for batch in tqdm.tqdm(trainloader):\n",
    "        mel_output_batch = mel_layer(batch['waveforms'].to(device)) #3-dimension\n",
    "        mel_output_batch4 = mel_output_batch.unsqueeze(1)  #4-dimension\n",
    "        \n",
    "        #print(f'{mel_output_batch4}')\n",
    "        \n",
    "        optimizer.zero_grad()\n",
    "        outputs = net(mel_output_batch4)\n",
    "        ##print(f\"{batch['labels'].shape=}\")\n",
    "        ##print(f'{outputs.shape=}')\n",
    "        \n",
    "        #batch['labels'] =2 dimension [batch, 1]\n",
    "        #batch['labels'].squeeze(1) = 1 dimension [batch]\n",
    "        loss = criterion(outputs, batch['labels'].to(device).squeeze(1).long()) \n",
    "\n",
    "        loss.backward()\n",
    "        optimizer.step()\n",
    "        \n",
    "        \n",
    "#inputs have to be 4-dimension tensors\n",
    "#outputs is the labels, required to be 1 dimension\n",
    "\n",
    "#Train the network in the training data"
   ]
  },
  {
   "cell_type": "code",
   "execution_count": 114,
   "id": "731d8278",
   "metadata": {},
   "outputs": [],
   "source": [
    "PATH = './speechcommands_net.pt'\n",
    "torch.save(net.state_dict(), PATH)\n",
    "#save the trained model as PATH\n",
    "\n",
    "#for future use, open empty jupyter\n",
    "#1.define the network\n",
    "#2.net = Net()\n",
    "#net.load_state_dict(torch.load(PATH)) "
   ]
  },
  {
   "cell_type": "code",
   "execution_count": null,
   "id": "15c7266f",
   "metadata": {},
   "outputs": [],
   "source": [
    "import matplotlib.pyplot as plt\n",
    "dataiter = iter(testloader)\n",
    "inputs, labels = dataiter.next()\n",
    "print(f'{(inputs.shape)}')\n",
    "\n",
    "#iterate testloader"
   ]
  },
  {
   "cell_type": "code",
   "execution_count": null,
   "id": "ea3aa7fc",
   "metadata": {},
   "outputs": [],
   "source": [
    "net = Net()\n",
    "net.load_state_dict(torch.load(PATH))\n",
    "\n",
    "#load back saved model\n"
   ]
  },
  {
   "cell_type": "code",
   "execution_count": null,
   "id": "7e32f0b5",
   "metadata": {},
   "outputs": [],
   "source": [
    "outputs = net(inputs)\n",
    "#subs testing inputs into saved model"
   ]
  },
  {
   "cell_type": "code",
   "execution_count": null,
   "id": "858e0099",
   "metadata": {},
   "outputs": [],
   "source": [
    "correct = 0\n",
    "total = 0\n",
    "#initialize number of testset\n",
    "\n",
    "with torch.no_grad():\n",
    "    for inputs, labels in tqdm.tqdm(testloader):\n",
    "        outputs = net(inputs)\n",
    "        _, predicted = torch.max(outputs.data, 1)\n",
    "        #max function will give 2 outcome\n",
    "        #x_random = torch.randn(8,10)\n",
    "        #torch.max(x_random,1) \n",
    "        \n",
    "        total += labels.size(0)\n",
    "        correct += (predicted == labels).sum().item()\n",
    "print('Accuracy: %d %%' % (100 * correct / total))\n",
    "\n",
    "#calculate the accuracy of the network on the testset"
   ]
  }
 ],
 "metadata": {
  "kernelspec": {
   "display_name": "python3.8.10",
   "language": "python",
   "name": "python3.8.10"
  },
  "language_info": {
   "codemirror_mode": {
    "name": "ipython",
    "version": 3
   },
   "file_extension": ".py",
   "mimetype": "text/x-python",
   "name": "python",
   "nbconvert_exporter": "python",
   "pygments_lexer": "ipython3",
   "version": "3.8.10"
  }
 },
 "nbformat": 4,
 "nbformat_minor": 5
}
