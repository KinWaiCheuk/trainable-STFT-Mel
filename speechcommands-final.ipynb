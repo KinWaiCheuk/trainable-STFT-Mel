{
 "cells": [
  {
   "cell_type": "code",
   "execution_count": null,
   "id": "db36511d",
   "metadata": {},
   "outputs": [],
   "source": [
    "#FeaturesDict:'audio', 'label'"
   ]
  },
  {
   "cell_type": "code",
   "execution_count": 2,
   "id": "58b9b730",
   "metadata": {},
   "outputs": [],
   "source": [
    "import torch\n",
    "import torchaudio \n",
    "import torch.nn as nn\n",
    "import torch.nn.functional as F\n",
    "import pandas\n",
    "import tqdm\n",
    "from torch.nn.utils.rnn import pad_sequence\n",
    "from nnAudio.features.mel import MelSpectrogram\n",
    "import matplotlib.pyplot as plt\n",
    "from IPython.display import Audio"
   ]
  },
  {
   "cell_type": "code",
   "execution_count": 3,
   "id": "e0e5002e",
   "metadata": {},
   "outputs": [
    {
     "data": {
      "text/plain": [
       "tensor([])"
      ]
     },
     "execution_count": 3,
     "metadata": {},
     "output_type": "execute_result"
    }
   ],
   "source": [
    "torch.Tensor(0)"
   ]
  },
  {
   "cell_type": "code",
   "execution_count": 4,
   "id": "a6bb63f8",
   "metadata": {},
   "outputs": [
    {
     "data": {
      "text/plain": [
       "tensor([0.])"
      ]
     },
     "execution_count": 4,
     "metadata": {},
     "output_type": "execute_result"
    }
   ],
   "source": [
    "torch.Tensor([0])"
   ]
  },
  {
   "cell_type": "code",
   "execution_count": 5,
   "id": "aff0b333",
   "metadata": {},
   "outputs": [
    {
     "ename": "NameError",
     "evalue": "name 'batch' is not defined",
     "output_type": "error",
     "traceback": [
      "\u001b[0;31m---------------------------------------------------------------------------\u001b[0m",
      "\u001b[0;31mNameError\u001b[0m                                 Traceback (most recent call last)",
      "\u001b[0;32m/var/folders/45/f7c2jlxs4296lyr5sxsr5wfc0000gn/T/ipykernel_18200/1717942975.py\u001b[0m in \u001b[0;36m<module>\u001b[0;34m\u001b[0m\n\u001b[0;32m----> 1\u001b[0;31m \u001b[0mbatch\u001b[0m\u001b[0;34m[\u001b[0m\u001b[0;36m0\u001b[0m\u001b[0;34m]\u001b[0m\u001b[0;34m.\u001b[0m\u001b[0mshape\u001b[0m\u001b[0;34m\u001b[0m\u001b[0;34m\u001b[0m\u001b[0m\n\u001b[0m",
      "\u001b[0;31mNameError\u001b[0m: name 'batch' is not defined"
     ]
    }
   ],
   "source": [
    "batch[0].shape"
   ]
  },
  {
   "cell_type": "code",
   "execution_count": 6,
   "id": "bba936f3",
   "metadata": {},
   "outputs": [
    {
     "ename": "NameError",
     "evalue": "name 'trainset' is not defined",
     "output_type": "error",
     "traceback": [
      "\u001b[0;31m---------------------------------------------------------------------------\u001b[0m",
      "\u001b[0;31mNameError\u001b[0m                                 Traceback (most recent call last)",
      "\u001b[0;32m/var/folders/45/f7c2jlxs4296lyr5sxsr5wfc0000gn/T/ipykernel_18200/469219150.py\u001b[0m in \u001b[0;36m<module>\u001b[0;34m\u001b[0m\n\u001b[0;32m----> 1\u001b[0;31m \u001b[0mtrainset\u001b[0m\u001b[0;34m[\u001b[0m\u001b[0;36m0\u001b[0m\u001b[0;34m]\u001b[0m\u001b[0;34m\u001b[0m\u001b[0;34m\u001b[0m\u001b[0m\n\u001b[0m",
      "\u001b[0;31mNameError\u001b[0m: name 'trainset' is not defined"
     ]
    }
   ],
   "source": [
    "trainset[0]"
   ]
  },
  {
   "cell_type": "code",
   "execution_count": 7,
   "id": "388a1ed6",
   "metadata": {},
   "outputs": [],
   "source": [
    "#process data before put it in dataloader\n",
    "#source from https://github.com/KinWaiCheuk/pytorch_template/blob/610a207aab988818f35af36d991dcaaaa9fa1ffe/utils/text_processing.py#L108\n",
    "\n",
    "def data_processing(data):\n",
    "    waveforms = []\n",
    "    labels = []\n",
    "    \n",
    "    for batch in data:\n",
    "        # batch[0].shape = (1, audio_len) tensor\n",
    "        waveforms.append(batch[0].squeeze(0)) #after squeeze => (audio_len) tensor # remove batch dim\n",
    "        # batch[2] = string\n",
    "        # str2int = dict\n",
    "        # str2int[batch[2]] = int\n",
    "        #torch.Tensor([str2int[batch[2]]]) = tensor\n",
    "        label = torch.Tensor([str2int[batch[2]]]) # batch[2] is the label key #str --> int --> tensor\n",
    "        ## print(f\"{label=}\")\n",
    "        labels.append(label)\n",
    "        \n",
    "    \n",
    "        \n",
    "    waveform_padded = nn.utils.rnn.pad_sequence(waveforms, batch_first=True)  \n",
    "    labels = nn.utils.rnn.pad_sequence(labels, batch_first=True)\n",
    "\n",
    "    \n",
    "    output_batch = {'waveforms': waveform_padded, # it is waveforms instead of spectrograms, this tiny hack can make the code work with existing training function\n",
    "             'labels': labels,\n",
    "             }\n",
    "    return output_batch\n",
    "\n",
    "#after data processing, return a dict with waveforms [torch.Size: 3 dimensions] and labels"
   ]
  },
  {
   "cell_type": "code",
   "execution_count": 8,
   "id": "854ee038",
   "metadata": {},
   "outputs": [
    {
     "name": "stdout",
     "output_type": "stream",
     "text": [
      "STFT kernels created, time used = 0.1116 seconds\n",
      "STFT filter created, time used = 0.0033 seconds\n",
      "Mel filter created, time used = 0.0034 seconds\n"
     ]
    }
   ],
   "source": [
    "mel_layer = MelSpectrogram(sr=16000, \n",
    "                           n_fft=2048,\n",
    "                           win_length=None,\n",
    "                           n_mels=100, \n",
    "                           hop_length=512,\n",
    "                           window='hann',\n",
    "                           center=True,\n",
    "                           pad_mode='reflect',\n",
    "                           power=2.0,\n",
    "                           htk=False,\n",
    "                           fmin=0.0,\n",
    "                           fmax=None,\n",
    "                           norm=1,\n",
    "                           trainable_mel=False,\n",
    "                           trainable_STFT=False,\n",
    "                           verbose=True,)\n",
    "#sr: sampling rate, 1s take how many datapoint\n",
    "#n_mels: the more , the better spectrogram\n",
    "#hop_length: distance of window move"
   ]
  },
  {
   "cell_type": "code",
   "execution_count": 9,
   "id": "2aaf771a",
   "metadata": {},
   "outputs": [],
   "source": [
    "batch_size = 8"
   ]
  },
  {
   "cell_type": "code",
   "execution_count": null,
   "id": "98d4e77a",
   "metadata": {},
   "outputs": [
    {
     "data": {
      "application/vnd.jupyter.widget-view+json": {
       "model_id": "734d0a7e79c94c1ea8f07aeb618965a5",
       "version_major": 2,
       "version_minor": 0
      },
      "text/plain": [
       "  0%|          | 0.00/2.26G [00:00<?, ?B/s]"
      ]
     },
     "metadata": {},
     "output_type": "display_data"
    }
   ],
   "source": [
    "trainset = torchaudio.datasets.SPEECHCOMMANDS('./',url='speech_commands_v0.02',folder_in_archive='SpeechCommands',download = True, subset = 'training')\n",
    "\n",
    "#trainset Returns (waveform[0], sample_rate[1], label[2], speaker_id, utterance_number)"
   ]
  },
  {
   "cell_type": "code",
   "execution_count": 4,
   "id": "481d4c1e",
   "metadata": {},
   "outputs": [
    {
     "data": {
      "text/plain": [
       "(tensor([[-0.0658, -0.0709, -0.0753,  ..., -0.0700, -0.0731, -0.0704]]),\n",
       " 16000,\n",
       " 'backward',\n",
       " '0165e0e8',\n",
       " 0)"
      ]
     },
     "execution_count": 4,
     "metadata": {},
     "output_type": "execute_result"
    }
   ],
   "source": [
    "trainset[0]\n",
    "\n",
    "#trainset[idx] Returns (waveform[0], sample_rate[1], label[2], speaker_id, utterance_number)\n",
    "#16000 sampling rate"
   ]
  },
  {
   "cell_type": "code",
   "execution_count": 5,
   "id": "472d5010",
   "metadata": {},
   "outputs": [
    {
     "data": {
      "text/plain": [
       "torch.Size([1, 16000])"
      ]
     },
     "execution_count": 5,
     "metadata": {},
     "output_type": "execute_result"
    }
   ],
   "source": [
    "trainset[9000][0].shape\n",
    "\n",
    "#for 1st sample\n",
    "#torch.Size([1, 16000]): 1 sample, include 16000points\n",
    "#trainset[0][2] --> label of 1st sample\n",
    "#since shape same, audio same lenght, no need preprocess audio"
   ]
  },
  {
   "cell_type": "code",
   "execution_count": 6,
   "id": "b1291bed",
   "metadata": {},
   "outputs": [
    {
     "data": {
      "text/plain": [
       "tensor([[-6.1035e-05, -1.8311e-04, -2.4414e-04,  ..., -9.1553e-05,\n",
       "          2.4414e-04,  4.2725e-04]])"
      ]
     },
     "execution_count": 6,
     "metadata": {},
     "output_type": "execute_result"
    }
   ],
   "source": [
    "A = trainset[0][0] #1st sample\n",
    "B = trainset[1][0] #2nd sample\n",
    "C = trainset[2][0] \n",
    "C\n",
    "#torc.Size(1, 16000]), 16000 data point in tensor"
   ]
  },
  {
   "cell_type": "code",
   "execution_count": 7,
   "id": "cb97e14f",
   "metadata": {},
   "outputs": [
    {
     "name": "stderr",
     "output_type": "stream",
     "text": [
      "100%|█| 84843/84843 [01:03<00:00\n"
     ]
    }
   ],
   "source": [
    "label_class = set()\n",
    "\n",
    "for i in tqdm.tqdm(trainset):\n",
    "    label_class.update([i[2]])\n",
    "    \n",
    "#use update() to iterate trainset, make a set()\n"
   ]
  },
  {
   "cell_type": "code",
   "execution_count": 8,
   "id": "785d99ab",
   "metadata": {},
   "outputs": [
    {
     "data": {
      "text/plain": [
       "35"
      ]
     },
     "execution_count": 8,
     "metadata": {},
     "output_type": "execute_result"
    }
   ],
   "source": [
    "len(label_class)"
   ]
  },
  {
   "cell_type": "code",
   "execution_count": 9,
   "id": "a26628e5",
   "metadata": {},
   "outputs": [],
   "source": [
    "str2int = {}\n",
    "for idx, key in enumerate(sorted(label_class)):\n",
    "    str2int[key] = idx\n",
    "    \n",
    "    #iterate label_class [set]\n",
    "    #create dict to map str[label] to index \n",
    "    #sorted() "
   ]
  },
  {
   "cell_type": "code",
   "execution_count": null,
   "id": "d8606913",
   "metadata": {},
   "outputs": [],
   "source": [
    "str2int"
   ]
  },
  {
   "cell_type": "code",
   "execution_count": 10,
   "id": "d46866ae",
   "metadata": {},
   "outputs": [],
   "source": [
    "str2int = \\\n",
    "{'backward': 0,\n",
    " 'bed': 1,\n",
    " 'bird': 2,\n",
    " 'cat': 3,\n",
    " 'dog': 4,\n",
    " 'down': 5,\n",
    " 'eight': 6,\n",
    " 'five': 7,\n",
    " 'follow': 8,\n",
    " 'forward': 9,\n",
    " 'four': 10,\n",
    " 'go': 11,\n",
    " 'happy': 12,\n",
    " 'house': 13,\n",
    " 'learn': 14,\n",
    " 'left': 15,\n",
    " 'marvin': 16,\n",
    " 'nine': 17,\n",
    " 'no': 18,\n",
    " 'off': 19,\n",
    " 'on': 20,\n",
    " 'one': 21,\n",
    " 'right': 22,\n",
    " 'seven': 23,\n",
    " 'sheila': 24,\n",
    " 'six': 25,\n",
    " 'stop': 26,\n",
    " 'three': 27,\n",
    " 'tree': 28,\n",
    " 'two': 29,\n",
    " 'up': 30,\n",
    " 'visual': 31,\n",
    " 'wow': 32,\n",
    " 'yes': 33,\n",
    " 'zero': 34\n",
    "}\n",
    "\n",
    "#create dict from dataset_label to int"
   ]
  },
  {
   "cell_type": "code",
   "execution_count": 11,
   "id": "ac13b310",
   "metadata": {},
   "outputs": [],
   "source": [
    "waveforms = [A,B,C]"
   ]
  },
  {
   "cell_type": "code",
   "execution_count": null,
   "id": "6d2e1527",
   "metadata": {},
   "outputs": [],
   "source": [
    "#for idx, i in enumerate(trainset):\n",
    "    #if i[0].shape[1]!=16000:\n",
    "        #print(idx)\n",
    "        \n",
    "#show not all audio are in same lenght "
   ]
  },
  {
   "cell_type": "code",
   "execution_count": 13,
   "id": "d5c4387f",
   "metadata": {},
   "outputs": [
    {
     "data": {
      "text/plain": [
       "torch.Size([1, 10922])"
      ]
     },
     "execution_count": 13,
     "metadata": {},
     "output_type": "execute_result"
    }
   ],
   "source": [
    "trainset[40][0].shape"
   ]
  },
  {
   "cell_type": "code",
   "execution_count": 14,
   "id": "667083cd",
   "metadata": {
    "scrolled": false
   },
   "outputs": [
    {
     "data": {
      "text/plain": [
       "[<matplotlib.lines.Line2D at 0x7fd842cdf5e0>]"
      ]
     },
     "execution_count": 14,
     "metadata": {},
     "output_type": "execute_result"
    },
    {
     "data": {
      "image/png": "[encoded data removed]",
      "text/plain": [
       "<Figure size 432x288 with 1 Axes>"
      ]
     },
     "metadata": {
      "needs_background": "light"
     },
     "output_type": "display_data"
    }
   ],
   "source": [
    "plt.plot(trainset[40][0][0])\n",
    "\n",
    "#plot those 16000 sampling point"
   ]
  },
  {
   "cell_type": "code",
   "execution_count": 15,
   "id": "8433f517",
   "metadata": {},
   "outputs": [
    {
     "data": {
      "text/html": [
       "\n",
       "                <audio  controls=\"controls\" >\n",
       "                    <source src=\"data:audio/wav;base64,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\" type=\"audio/wav\" />\n",
       "                    Your browser does not support the audio element.\n",
       "                </audio>\n",
       "              "
      ],
      "text/plain": [
       "<IPython.lib.display.Audio object>"
      ]
     },
     "execution_count": 15,
     "metadata": {},
     "output_type": "execute_result"
    }
   ],
   "source": [
    "Audio(trainset[40][0][0], rate=16000)\n",
    "\n",
    "\n",
    "#from IPython.display import Audio\n",
    "#diff sampling rate: low --> low pitch, low speed"
   ]
  },
  {
   "cell_type": "code",
   "execution_count": 12,
   "id": "8624c577",
   "metadata": {},
   "outputs": [],
   "source": [
    "sample_idx = 5"
   ]
  },
  {
   "cell_type": "code",
   "execution_count": 16,
   "id": "384323a8",
   "metadata": {},
   "outputs": [
    {
     "data": {
      "text/plain": [
       "torch.Size([1, 16000])"
      ]
     },
     "execution_count": 16,
     "metadata": {},
     "output_type": "execute_result"
    }
   ],
   "source": [
    "trainset[sample_idx][0].shape"
   ]
  },
  {
   "cell_type": "code",
   "execution_count": 19,
   "id": "1fbd4bb8",
   "metadata": {},
   "outputs": [],
   "source": [
    "mel_output_sample = mel_layer(trainset[sample_idx][0][0])\n"
   ]
  },
  {
   "cell_type": "code",
   "execution_count": 20,
   "id": "ecddca74",
   "metadata": {},
   "outputs": [
    {
     "data": {
      "text/plain": [
       "tensor([[[1.1218e-05, 7.8554e-06, 1.0171e-05,  ..., 9.2048e-05,\n",
       "          6.2789e-05, 1.0089e-04],\n",
       "         [8.8428e-05, 5.4556e-05, 4.2421e-05,  ..., 8.9731e-04,\n",
       "          1.4681e-04, 3.1011e-04],\n",
       "         [1.1456e-04, 1.9463e-04, 1.2023e-04,  ..., 1.8110e-03,\n",
       "          3.1303e-04, 4.1248e-04],\n",
       "         ...,\n",
       "         [3.9348e-07, 4.6287e-07, 1.0509e-06,  ..., 7.5567e-07,\n",
       "          6.3953e-07, 1.0705e-06],\n",
       "         [2.1862e-07, 2.7538e-07, 3.6169e-07,  ..., 4.1981e-07,\n",
       "          3.4865e-07, 5.5478e-07],\n",
       "         [1.0552e-07, 1.5435e-07, 1.3894e-07,  ..., 3.4982e-07,\n",
       "          2.1302e-07, 3.4513e-07]]])"
      ]
     },
     "execution_count": 20,
     "metadata": {},
     "output_type": "execute_result"
    }
   ],
   "source": [
    "mel_output_sample"
   ]
  },
  {
   "cell_type": "code",
   "execution_count": 21,
   "id": "6e13ea3e",
   "metadata": {},
   "outputs": [
    {
     "data": {
      "text/plain": [
       "<matplotlib.image.AxesImage at 0x7fd8422ed9d0>"
      ]
     },
     "execution_count": 21,
     "metadata": {},
     "output_type": "execute_result"
    },
    {
     "data": {
      "image/png": "[encoded data removed]",
      "text/plain": [
       "<Figure size 432x288 with 1 Axes>"
      ]
     },
     "metadata": {
      "needs_background": "light"
     },
     "output_type": "display_data"
    }
   ],
   "source": [
    "plt.imshow(torch.log(mel_output_sample[0]), aspect='auto', origin='lower')\n",
    "\n",
    "#y-axis : frequency \n",
    "#x-axis: time \n",
    "\n",
    "#aspect: auto adjust spectrogram size\n",
    "#origin='lower' make both origin in left bottom corner\n",
    "\n",
    "#MelSpectrogram process audio to visual"
   ]
  },
  {
   "cell_type": "code",
   "execution_count": 22,
   "id": "1222c2ed",
   "metadata": {},
   "outputs": [
    {
     "data": {
      "text/plain": [
       "torch.Size([4, 100, 32])"
      ]
     },
     "execution_count": 22,
     "metadata": {},
     "output_type": "execute_result"
    }
   ],
   "source": [
    "random_audio = torch.randn(4, 16000)   #4sample\n",
    "mel_output_sample = mel_layer(random_audio)\n",
    "mel_output_sample.shape\n",
    "\n",
    "#torch.Size([4,100,32]) --> 4sample"
   ]
  },
  {
   "cell_type": "code",
   "execution_count": 23,
   "id": "aa6d70c8",
   "metadata": {},
   "outputs": [
    {
     "data": {
      "text/plain": [
       "torch.Size([4, 100, 32])"
      ]
     },
     "execution_count": 23,
     "metadata": {},
     "output_type": "execute_result"
    }
   ],
   "source": [
    "mel_output_sample.shape\n",
    "\n",
    "#MelSpectrogram  --> mel_layer --> mel_output\n",
    "#convert audio to <function Tensor.type>, got width and height"
   ]
  },
  {
   "cell_type": "code",
   "execution_count": null,
   "id": "fd1b60cc",
   "metadata": {},
   "outputs": [],
   "source": [
    "#pad_sequence(waveforms).size()"
   ]
  },
  {
   "cell_type": "code",
   "execution_count": 117,
   "id": "490e5ee5",
   "metadata": {},
   "outputs": [],
   "source": [
    "trainloader = torch.utils.data.DataLoader(trainset,\n",
    "                              batch_size=batch_size,\n",
    "                              collate_fn=lambda x: data_processing(x))"
   ]
  },
  {
   "cell_type": "code",
   "execution_count": null,
   "id": "f83117a7",
   "metadata": {},
   "outputs": [],
   "source": [
    "#trainloader = torch.utils.data.DataLoader(trainset, batch_size=batch_size, shuffle=False)\n",
    "#testloader = torch.utils.data.DataLoader(testset, batch_size=batch_size, shuffle=False)"
   ]
  },
  {
   "cell_type": "code",
   "execution_count": 29,
   "id": "65ee55b1",
   "metadata": {},
   "outputs": [],
   "source": [
    "testset = torchaudio.datasets.SPEECHCOMMANDS('./',url='speech_commands_v0.02',folder_in_archive='SpeechCommands',download = True, subset = 'testing')"
   ]
  },
  {
   "cell_type": "code",
   "execution_count": 118,
   "id": "da62930a",
   "metadata": {},
   "outputs": [],
   "source": [
    "#speech_command_transform = Speech_Command_label_Transform(trainset)\n",
    "testloader = torch.utils.data.DataLoader(testset,\n",
    "                              batch_size=batch_size,\n",
    "                              collate_fn=lambda x: data_processing(x))"
   ]
  },
  {
   "cell_type": "code",
   "execution_count": null,
   "id": "28e6b7c3",
   "metadata": {},
   "outputs": [],
   "source": [
    "#iter_loader = iter(trainloader)"
   ]
  },
  {
   "cell_type": "code",
   "execution_count": null,
   "id": "f2348723",
   "metadata": {
    "scrolled": true
   },
   "outputs": [],
   "source": [
    "#next(iter_loader).shape"
   ]
  },
  {
   "cell_type": "code",
   "execution_count": 91,
   "id": "590f7fff",
   "metadata": {
    "scrolled": true
   },
   "outputs": [
    {
     "name": "stdout",
     "output_type": "stream",
     "text": [
      "batch[2]='backward'\n",
      "str2int[batch[2]]=0\n",
      "label=tensor([0.])\n",
      "batch[2]='backward'\n",
      "str2int[batch[2]]=0\n",
      "label=tensor([0.])\n",
      "batch[2]='backward'\n",
      "str2int[batch[2]]=0\n",
      "label=tensor([0.])\n",
      "batch[2]='backward'\n",
      "str2int[batch[2]]=0\n",
      "label=tensor([0.])\n",
      "batch[2]='backward'\n",
      "str2int[batch[2]]=0\n",
      "label=tensor([0.])\n",
      "batch[2]='backward'\n",
      "str2int[batch[2]]=0\n",
      "label=tensor([0.])\n",
      "batch[2]='backward'\n",
      "str2int[batch[2]]=0\n",
      "label=tensor([0.])\n",
      "batch[2]='backward'\n",
      "str2int[batch[2]]=0\n",
      "label=tensor([0.])\n"
     ]
    }
   ],
   "source": [
    "batch = next(iter(trainloader))\n",
    "\n",
    "#batch type: dict\n",
    "#show 1st batch"
   ]
  },
  {
   "cell_type": "code",
   "execution_count": 81,
   "id": "7dcf5c22",
   "metadata": {},
   "outputs": [
    {
     "data": {
      "text/plain": [
       "tensor([], size=(8, 0))"
      ]
     },
     "execution_count": 81,
     "metadata": {},
     "output_type": "execute_result"
    }
   ],
   "source": [
    "batch['labels']"
   ]
  },
  {
   "cell_type": "code",
   "execution_count": 35,
   "id": "6d4b151c",
   "metadata": {},
   "outputs": [
    {
     "data": {
      "text/plain": [
       "torch.Size([3, 16000])"
      ]
     },
     "execution_count": 35,
     "metadata": {},
     "output_type": "execute_result"
    }
   ],
   "source": [
    "batch['waveforms'].shape"
   ]
  },
  {
   "cell_type": "code",
   "execution_count": 34,
   "id": "6a72b80f",
   "metadata": {},
   "outputs": [
    {
     "name": "stderr",
     "output_type": "stream",
     "text": [
      "100%|█| 10606/10606 [01:06<00:00\n"
     ]
    }
   ],
   "source": [
    "for batch in tqdm.tqdm(trainloader):\n",
    "    pass\n",
    "\n",
    "#check if trainloader is divided in batch successfully"
   ]
  },
  {
   "cell_type": "code",
   "execution_count": 66,
   "id": "67f73158",
   "metadata": {},
   "outputs": [
    {
     "data": {
      "text/plain": [
       "torch.Size([8, 100, 32])"
      ]
     },
     "execution_count": 66,
     "metadata": {},
     "output_type": "execute_result"
    }
   ],
   "source": [
    "mel_output_batch = mel_layer(batch['waveforms'])\n",
    "mel_output_batch.shape\n",
    "\n",
    "\n",
    "\n",
    "#batch here = 1st batch\n",
    "#extract 1st batch via dict [key]:waveforms\n",
    "#batch['waveforms'].shape  --> torch.Size([3, 16000])"
   ]
  },
  {
   "cell_type": "code",
   "execution_count": 37,
   "id": "09ec4374",
   "metadata": {},
   "outputs": [],
   "source": [
    "mel_output_batch4 = mel_output_batch.unsqueeze(1)\n",
    "\n",
    "#conv2d need to be 4 dimension [ batch, channel, width, height]\n",
    "#unsqueeze: add dimension into index[1]\n"
   ]
  },
  {
   "cell_type": "code",
   "execution_count": 38,
   "id": "8b461d67",
   "metadata": {},
   "outputs": [
    {
     "data": {
      "text/plain": [
       "torch.Size([3, 1, 100, 32])"
      ]
     },
     "execution_count": 38,
     "metadata": {},
     "output_type": "execute_result"
    }
   ],
   "source": [
    "mel_output_batch4.shape"
   ]
  },
  {
   "cell_type": "code",
   "execution_count": null,
   "id": "5d5d552b",
   "metadata": {},
   "outputs": [],
   "source": [
    "#testloader = torch.utils.data.DataLoader(testset,\n",
    "                              #collate_fn=lambda x: data_processing(x,text_transform))"
   ]
  },
  {
   "cell_type": "code",
   "execution_count": 119,
   "id": "1f36fc78",
   "metadata": {},
   "outputs": [],
   "source": [
    "import torch.nn as nn\n",
    "import torch.nn.functional as F\n",
    "class Net(nn.Module):\n",
    "    def __init__(self):\n",
    "        super().__init__()\n",
    "        self.conv1 = nn.Conv2d(1,6,5)    \n",
    "        self.conv2 = nn.Conv2d(6,16,5)\n",
    "        self.fc1 = nn.Linear(16*22*5,120) \n",
    "        #have to follow input, x.shape before flattern: \n",
    "        self.fc2 = nn.Linear(120,84)\n",
    "        self.fc3 = nn.Linear(84,35)\n",
    "        \n",
    "    def forward(self,x):\n",
    "        #print(f\"{x.shape=}\")\n",
    "        x = F.max_pool2d(F.relu(self.conv1(x)), (2, 2))\n",
    "        x = F.max_pool2d(F.relu(self.conv2(x)),2)\n",
    "        #print(f'before flatten x.shape = {x.shape}')\n",
    "        x = torch.flatten(x,1)\n",
    "        #print(f'x.shape = {x.shape}')\n",
    "        x = F.relu(self.fc1(x))\n",
    "        x = F.relu(self.fc2(x))\n",
    "        x = self.fc3(x)\n",
    "        return x\n",
    "\n",
    "net = Net()\n",
    "#define the network\n",
    "\n",
    "# print(f'before flatten x.shape = {x.shape}')\n",
    "# print(f'x.shape = {x.shape}')"
   ]
  },
  {
   "cell_type": "code",
   "execution_count": 51,
   "id": "638f7b6d",
   "metadata": {},
   "outputs": [
    {
     "name": "stdout",
     "output_type": "stream",
     "text": [
      "x.shape=torch.Size([3, 1, 100, 32])\n",
      "before flatten x.shape = torch.Size([3, 16, 22, 5])\n",
      "x.shape = torch.Size([3, 1760])\n"
     ]
    },
    {
     "data": {
      "text/plain": [
       "tensor([[-0.2267,  0.0755,  0.0372,  0.2965, -0.2840, -0.4764,  0.2786, -0.0147,\n",
       "          0.1443, -0.2037, -0.0694, -0.0178,  0.0128, -0.0221,  0.1838, -0.1157,\n",
       "         -0.2824, -0.2018,  0.2056, -0.1863,  0.0056, -0.0183,  0.0143, -0.0204,\n",
       "          0.0114, -0.0581,  0.1958, -0.0347, -0.0105,  0.0676,  0.0302, -0.1564,\n",
       "          0.0487,  0.2856,  0.0161],\n",
       "        [-0.1501,  0.0622,  0.0428,  0.1879, -0.1552, -0.2427,  0.1517, -0.0433,\n",
       "          0.0546, -0.1063, -0.0973,  0.0453, -0.0568, -0.0374,  0.0961, -0.0076,\n",
       "         -0.1752, -0.0845,  0.1367, -0.0547,  0.0143, -0.0258,  0.0372, -0.0395,\n",
       "         -0.0179, -0.1018,  0.1353,  0.0596,  0.0027,  0.0532, -0.0067, -0.0989,\n",
       "          0.0164,  0.1068,  0.0112],\n",
       "        [-0.1071,  0.1082,  0.0270,  0.1456, -0.1330, -0.1591,  0.1271, -0.0081,\n",
       "          0.0748, -0.0606, -0.1240,  0.0934, -0.0631, -0.0382,  0.0892, -0.0408,\n",
       "         -0.1462, -0.1167,  0.0599,  0.0364,  0.0514,  0.0711,  0.0627, -0.0222,\n",
       "         -0.0690, -0.1303,  0.0810,  0.0408, -0.0354,  0.0118, -0.0379, -0.0609,\n",
       "          0.0183,  0.0231,  0.0855]], grad_fn=<AddmmBackward0>)"
      ]
     },
     "execution_count": 51,
     "metadata": {},
     "output_type": "execute_result"
    }
   ],
   "source": [
    "net(mel_output_batch4)\n",
    "\n",
    "#before flatten x.shape = torch.Size([8, 16, 22, 5]) --> each batch :8 image\n"
   ]
  },
  {
   "cell_type": "code",
   "execution_count": 120,
   "id": "abe4fa3e",
   "metadata": {},
   "outputs": [],
   "source": [
    "import torch.optim as optim\n",
    "\n",
    "criterion = nn.CrossEntropyLoss()\n",
    "optimizer = optim.SGD(net.parameters(), lr=0.001, momentum=0.9)\n",
    "\n",
    "#define loss function and optimizer\n",
    "\n",
    "#normally use cross-entropyloss for classification problem\n",
    "#nn.MSELoss for regression problem\n"
   ]
  },
  {
   "cell_type": "code",
   "execution_count": null,
   "id": "4f8cb0f7",
   "metadata": {},
   "outputs": [],
   "source": [
    "#for name, i in net.named_parameters():\n",
    "    #print(f\"{name}\")\n",
    "    \n",
    "#list out the parameters that can be trained"
   ]
  },
  {
   "cell_type": "code",
   "execution_count": 53,
   "id": "65b356ce",
   "metadata": {},
   "outputs": [
    {
     "data": {
      "text/plain": [
       "'waveforms'"
      ]
     },
     "execution_count": 53,
     "metadata": {},
     "output_type": "execute_result"
    }
   ],
   "source": [
    "trainloader"
   ]
  },
  {
   "cell_type": "code",
   "execution_count": 54,
   "id": "0ac08776",
   "metadata": {},
   "outputs": [
    {
     "data": {
      "text/plain": [
       "'labels'"
      ]
     },
     "execution_count": 54,
     "metadata": {},
     "output_type": "execute_result"
    }
   ],
   "source": [
    "labels"
   ]
  },
  {
   "cell_type": "code",
   "execution_count": 56,
   "id": "4d596ced",
   "metadata": {},
   "outputs": [
    {
     "data": {
      "text/plain": [
       "torch.Size([8, 16000])"
      ]
     },
     "execution_count": 56,
     "metadata": {},
     "output_type": "execute_result"
    }
   ],
   "source": [
    "batch['waveforms'].shape"
   ]
  },
  {
   "cell_type": "code",
   "execution_count": 121,
   "id": "6b6b865f",
   "metadata": {},
   "outputs": [
    {
     "name": "stderr",
     "output_type": "stream",
     "text": [
      "100%|█| 10606/10606 [08:21<00:00\n",
      "100%|█| 10606/10606 [08:17<00:00\n"
     ]
    }
   ],
   "source": [
    "for epoch in range(2):\n",
    "    Loss = 0\n",
    "    \n",
    "    for batch in tqdm.tqdm(trainloader):\n",
    "        mel_output_batch = mel_layer(batch['waveforms']) #3-dimension\n",
    "        mel_output_batch4 = mel_output_batch.unsqueeze(1)  #4-dimension\n",
    "        \n",
    "        #print(f'{mel_output_batch4}')\n",
    "        \n",
    "        optimizer.zero_grad()\n",
    "        outputs = net(mel_output_batch4)\n",
    "        ##print(f\"{batch['labels'].shape=}\")\n",
    "        ##print(f'{outputs.shape=}')\n",
    "        \n",
    "        #batch['labels'] =2 dimension [batch, 1]\n",
    "        #batch['labels'].squeeze(1) = 1 dimension [batch]\n",
    "        loss = criterion(outputs, batch['labels'].squeeze(1).long()) \n",
    "\n",
    "        loss.backward()\n",
    "        optimizer.step()\n",
    "        \n",
    "        \n",
    "#inputs have to be 4-dimension tensors\n",
    "#outputs is the labels, required to be 1 dimension\n",
    "\n",
    "#Train the network in the training data"
   ]
  },
  {
   "cell_type": "code",
   "execution_count": 114,
   "id": "731d8278",
   "metadata": {},
   "outputs": [],
   "source": [
    "PATH = './speechcommands_net.pt'\n",
    "torch.save(net.state_dict(), PATH)\n",
    "#save the trained model as PATH\n",
    "\n",
    "#for future use, open empty jupyter\n",
    "#1.define the network\n",
    "#2.net = Net()\n",
    "#net.load_state_dict(torch.load(PATH)) "
   ]
  },
  {
   "cell_type": "code",
   "execution_count": null,
   "id": "15c7266f",
   "metadata": {},
   "outputs": [],
   "source": [
    "import matplotlib.pyplot as plt\n",
    "dataiter = iter(testloader)\n",
    "inputs, labels = dataiter.next()\n",
    "print(f'{(inputs.shape)}')\n",
    "\n",
    "#iterate testloader"
   ]
  },
  {
   "cell_type": "code",
   "execution_count": null,
   "id": "ea3aa7fc",
   "metadata": {},
   "outputs": [],
   "source": [
    "net = Net()\n",
    "net.load_state_dict(torch.load(PATH))\n",
    "\n",
    "#load back saved model\n"
   ]
  },
  {
   "cell_type": "code",
   "execution_count": null,
   "id": "7e32f0b5",
   "metadata": {},
   "outputs": [],
   "source": [
    "outputs = net(inputs)\n",
    "#subs testing inputs into saved model"
   ]
  },
  {
   "cell_type": "code",
   "execution_count": null,
   "id": "858e0099",
   "metadata": {},
   "outputs": [],
   "source": [
    "correct = 0\n",
    "total = 0\n",
    "#initialize number of testset\n",
    "\n",
    "with torch.no_grad():\n",
    "    for inputs, labels in tqdm.tqdm(testloader):\n",
    "        outputs = net(inputs)\n",
    "        _, predicted = torch.max(outputs.data, 1)\n",
    "        #max function will give 2 outcome\n",
    "        #x_random = torch.randn(8,10)\n",
    "        #torch.max(x_random,1) \n",
    "        \n",
    "        total += labels.size(0)\n",
    "        correct += (predicted == labels).sum().item()\n",
    "print('Accuracy: %d %%' % (100 * correct / total))\n",
    "\n",
    "#calculate the accuracy of the network on the testset"
   ]
  }
 ],
 "metadata": {
  "kernelspec": {
   "display_name": "python3.8.10",
   "language": "python",
   "name": "python3.8.10"
  },
  "language_info": {
   "codemirror_mode": {
    "name": "ipython",
    "version": 3
   },
   "file_extension": ".py",
   "mimetype": "text/x-python",
   "name": "python",
   "nbconvert_exporter": "python",
   "pygments_lexer": "ipython3",
   "version": "3.8.10"
  }
 },
 "nbformat": 4,
 "nbformat_minor": 5
}
