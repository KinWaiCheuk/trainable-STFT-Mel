{
 "cells": [
  {
   "cell_type": "code",
   "execution_count": 26,
   "id": "d94dc42b",
   "metadata": {},
   "outputs": [],
   "source": [
    "# Libraries related to PyTorch\n",
    "import torch\n",
    "from torch import Tensor\n",
    "import torchaudio \n",
    "import torch.nn as nn\n",
    "import torch.nn.functional as F\n",
    "from torch.nn.utils.rnn import pad_sequence\n",
    "from torch.utils.data import WeightedRandomSampler,DataLoader\n",
    "\n",
    "# Libraries related to PyTorch Lightning\n",
    "from pytorch_lightning import Trainer\n",
    "from pytorch_lightning.loggers import TensorBoardLogger\n",
    "from pytorch_lightning.callbacks import LearningRateMonitor, ModelCheckpoint\n",
    "\n",
    "# Libraries related to hydra\n",
    "import hydra\n",
    "from hydra.utils import to_absolute_path\n",
    "from omegaconf import DictConfig, OmegaConf\n",
    "\n",
    "# custom packages\n",
    "from dataset.speechcommands import SPEECHCOMMANDS_12C #for 12 classes KWS task\n",
    "import models as Model\n",
    "\n",
    "from dataloading_util import data_processing\n",
    "from datetime import datetime"
   ]
  },
  {
   "cell_type": "code",
   "execution_count": 2,
   "id": "f01f86bf",
   "metadata": {},
   "outputs": [
    {
     "data": {
      "text/plain": [
       "hydra.initialize()"
      ]
     },
     "execution_count": 2,
     "metadata": {},
     "output_type": "execute_result"
    }
   ],
   "source": [
    "hydra.initialize(\"conf\")"
   ]
  },
  {
   "cell_type": "code",
   "execution_count": 3,
   "id": "a545dd28",
   "metadata": {},
   "outputs": [
    {
     "name": "stderr",
     "output_type": "stream",
     "text": [
      "/root/anaconda3/envs/paper3810/lib/python3.8/site-packages/hydra/_internal/defaults_list.py:251: UserWarning: In 'KWS_config': Defaults list is missing `_self_`. See https://hydra.cc/docs/upgrades/1.0_to_1.1/default_composition_order for more information\n",
      "  warnings.warn(msg, UserWarning)\n"
     ]
    }
   ],
   "source": [
    "cfg = hydra.compose(\"KWS_config\", overrides=[])"
   ]
  },
  {
   "cell_type": "markdown",
   "id": "6fdcfe37",
   "metadata": {},
   "source": [
    "# Loading pretrained weight"
   ]
  },
  {
   "cell_type": "markdown",
   "id": "c6da61b0",
   "metadata": {},
   "source": [
    "# Setting up dataset"
   ]
  },
  {
   "cell_type": "code",
   "execution_count": 5,
   "id": "348a9695",
   "metadata": {},
   "outputs": [
    {
     "name": "stdout",
     "output_type": "stream",
     "text": [
      "basename='speech_commands_test_set_v0.02.tar.gz'\n"
     ]
    },
    {
     "name": "stderr",
     "output_type": "stream",
     "text": [
      "Loading testing set: 0it [00:00, ?it/s]\n"
     ]
    }
   ],
   "source": [
    "cfg.data_root = to_absolute_path(cfg.data_root) # convert relative path to absolute path\n",
    "\n",
    "batch_size = cfg.batch_size\n",
    "\n",
    "testset = SPEECHCOMMANDS_12C(**cfg.dataset.test)"
   ]
  },
  {
   "cell_type": "code",
   "execution_count": 6,
   "id": "70743f40",
   "metadata": {},
   "outputs": [],
   "source": [
    "    # for class weighting, rebalancing silence(10th class) and unknown(11th class) in training set\n",
    "    class_weights = [1,1,1,1,1,1,1,1,1,1,4.6,1/17]\n",
    "    sample_weights = [0] * len(trainset)\n",
    "    #create a list as per length of trainset\n",
    "\n",
    "    for idx, (data,rate,label,speaker_id, _) in enumerate(trainset):\n",
    "        class_weight = class_weights[label]\n",
    "        sample_weights[idx] = class_weight\n",
    "    #apply sample_weights in each data base on their label class in class_weight\n",
    "    #ref: https://www.youtube.com/watch?v=4JFVhJyTZ44&t=518s\n",
    "    sampler = WeightedRandomSampler(sample_weights, num_samples=len(sample_weights),replacement=True)\n",
    "            \n",
    "    \n",
    "    testloader = DataLoader(testset,   \n",
    "                                  collate_fn=lambda x: data_processing(x),\n",
    "                                            **cfg.dataloader.test)     "
   ]
  },
  {
   "cell_type": "code",
   "execution_count": 7,
   "id": "d6a386bf",
   "metadata": {},
   "outputs": [
    {
     "data": {
      "text/plain": [
       "'BCResNet_nnAudio'"
      ]
     },
     "execution_count": 7,
     "metadata": {},
     "output_type": "execute_result"
    }
   ],
   "source": [
    "cfg.model.model_type"
   ]
  },
  {
   "cell_type": "markdown",
   "id": "14510a21",
   "metadata": {},
   "source": [
    "# Loading pretrained weight"
   ]
  },
  {
   "cell_type": "code",
   "execution_count": 29,
   "id": "eb919eaa",
   "metadata": {},
   "outputs": [
    {
     "name": "stdout",
     "output_type": "stream",
     "text": [
      "STFT kernels created, time used = 0.1838 seconds\n",
      "STFT filter created, time used = 0.0037 seconds\n",
      "Mel filter created, time used = 0.0037 seconds\n"
     ]
    },
    {
     "data": {
      "text/plain": [
       "BCResNet_nnAudio(\n",
       "  (conv1): Conv2d(1, 16, kernel_size=(5, 5), stride=(2, 1), padding=(2, 2))\n",
       "  (block1_1): TransitionBlock(\n",
       "    (freq_dw_conv): Conv2d(8, 8, kernel_size=(3, 1), stride=(1, 1), padding=(1, 0), groups=8, bias=False)\n",
       "    (ssn): SubSpectralNorm(\n",
       "      (bn): BatchNorm2d(40, eps=1e-05, momentum=0.1, affine=True, track_running_stats=True)\n",
       "    )\n",
       "    (temp_dw_conv): Conv2d(8, 8, kernel_size=(1, 3), stride=(1, 1), padding=(0, 1), groups=8, bias=False)\n",
       "    (bn1): BatchNorm2d(8, eps=1e-05, momentum=0.1, affine=True, track_running_stats=True)\n",
       "    (bn2): BatchNorm2d(8, eps=1e-05, momentum=0.1, affine=True, track_running_stats=True)\n",
       "    (relu): ReLU(inplace=True)\n",
       "    (channel_drop): Dropout2d(p=0.5, inplace=False)\n",
       "    (swish): SiLU()\n",
       "    (conv1x1_1): Conv2d(16, 8, kernel_size=(1, 1), stride=(1, 1), bias=False)\n",
       "    (conv1x1_2): Conv2d(8, 8, kernel_size=(1, 1), stride=(1, 1), bias=False)\n",
       "  )\n",
       "  (block1_2): BroadcastedBlock(\n",
       "    (freq_dw_conv): Conv2d(8, 8, kernel_size=(3, 1), stride=(1, 1), padding=(1, 0), groups=8, bias=False)\n",
       "    (ssn1): SubSpectralNorm(\n",
       "      (bn): BatchNorm2d(40, eps=1e-05, momentum=0.1, affine=True, track_running_stats=True)\n",
       "    )\n",
       "    (temp_dw_conv): Conv2d(8, 8, kernel_size=(1, 3), stride=(1, 1), padding=(0, 1), groups=8, bias=False)\n",
       "    (bn): BatchNorm2d(8, eps=1e-05, momentum=0.1, affine=True, track_running_stats=True)\n",
       "    (relu): ReLU(inplace=True)\n",
       "    (channel_drop): Dropout2d(p=0.1, inplace=False)\n",
       "    (swish): SiLU()\n",
       "    (conv1x1): Conv2d(8, 8, kernel_size=(1, 1), stride=(1, 1), bias=False)\n",
       "  )\n",
       "  (block2_1): TransitionBlock(\n",
       "    (freq_dw_conv): Conv2d(12, 12, kernel_size=(3, 1), stride=(2, 1), padding=(1, 0), dilation=(1, 2), groups=12, bias=False)\n",
       "    (ssn): SubSpectralNorm(\n",
       "      (bn): BatchNorm2d(60, eps=1e-05, momentum=0.1, affine=True, track_running_stats=True)\n",
       "    )\n",
       "    (temp_dw_conv): Conv2d(12, 12, kernel_size=(1, 3), stride=(2, 1), padding=(0, 2), dilation=(1, 2), groups=12, bias=False)\n",
       "    (bn1): BatchNorm2d(12, eps=1e-05, momentum=0.1, affine=True, track_running_stats=True)\n",
       "    (bn2): BatchNorm2d(12, eps=1e-05, momentum=0.1, affine=True, track_running_stats=True)\n",
       "    (relu): ReLU(inplace=True)\n",
       "    (channel_drop): Dropout2d(p=0.5, inplace=False)\n",
       "    (swish): SiLU()\n",
       "    (conv1x1_1): Conv2d(8, 12, kernel_size=(1, 1), stride=(1, 1), bias=False)\n",
       "    (conv1x1_2): Conv2d(12, 12, kernel_size=(1, 1), stride=(1, 1), bias=False)\n",
       "  )\n",
       "  (block2_2): BroadcastedBlock(\n",
       "    (freq_dw_conv): Conv2d(12, 12, kernel_size=(3, 1), stride=(1, 1), padding=(1, 0), dilation=(1, 2), groups=12, bias=False)\n",
       "    (ssn1): SubSpectralNorm(\n",
       "      (bn): BatchNorm2d(60, eps=1e-05, momentum=0.1, affine=True, track_running_stats=True)\n",
       "    )\n",
       "    (temp_dw_conv): Conv2d(12, 12, kernel_size=(1, 3), stride=(1, 1), padding=(0, 2), dilation=(1, 2), groups=12, bias=False)\n",
       "    (bn): BatchNorm2d(12, eps=1e-05, momentum=0.1, affine=True, track_running_stats=True)\n",
       "    (relu): ReLU(inplace=True)\n",
       "    (channel_drop): Dropout2d(p=0.1, inplace=False)\n",
       "    (swish): SiLU()\n",
       "    (conv1x1): Conv2d(12, 12, kernel_size=(1, 1), stride=(1, 1), bias=False)\n",
       "  )\n",
       "  (block3_1): TransitionBlock(\n",
       "    (freq_dw_conv): Conv2d(16, 16, kernel_size=(3, 1), stride=(2, 1), padding=(1, 0), dilation=(1, 4), groups=16, bias=False)\n",
       "    (ssn): SubSpectralNorm(\n",
       "      (bn): BatchNorm2d(80, eps=1e-05, momentum=0.1, affine=True, track_running_stats=True)\n",
       "    )\n",
       "    (temp_dw_conv): Conv2d(16, 16, kernel_size=(1, 3), stride=(2, 1), padding=(0, 4), dilation=(1, 4), groups=16, bias=False)\n",
       "    (bn1): BatchNorm2d(16, eps=1e-05, momentum=0.1, affine=True, track_running_stats=True)\n",
       "    (bn2): BatchNorm2d(16, eps=1e-05, momentum=0.1, affine=True, track_running_stats=True)\n",
       "    (relu): ReLU(inplace=True)\n",
       "    (channel_drop): Dropout2d(p=0.5, inplace=False)\n",
       "    (swish): SiLU()\n",
       "    (conv1x1_1): Conv2d(12, 16, kernel_size=(1, 1), stride=(1, 1), bias=False)\n",
       "    (conv1x1_2): Conv2d(16, 16, kernel_size=(1, 1), stride=(1, 1), bias=False)\n",
       "  )\n",
       "  (block3_2): BroadcastedBlock(\n",
       "    (freq_dw_conv): Conv2d(16, 16, kernel_size=(3, 1), stride=(1, 1), padding=(1, 0), dilation=(1, 4), groups=16, bias=False)\n",
       "    (ssn1): SubSpectralNorm(\n",
       "      (bn): BatchNorm2d(80, eps=1e-05, momentum=0.1, affine=True, track_running_stats=True)\n",
       "    )\n",
       "    (temp_dw_conv): Conv2d(16, 16, kernel_size=(1, 3), stride=(1, 1), padding=(0, 4), dilation=(1, 4), groups=16, bias=False)\n",
       "    (bn): BatchNorm2d(16, eps=1e-05, momentum=0.1, affine=True, track_running_stats=True)\n",
       "    (relu): ReLU(inplace=True)\n",
       "    (channel_drop): Dropout2d(p=0.1, inplace=False)\n",
       "    (swish): SiLU()\n",
       "    (conv1x1): Conv2d(16, 16, kernel_size=(1, 1), stride=(1, 1), bias=False)\n",
       "  )\n",
       "  (block3_3): BroadcastedBlock(\n",
       "    (freq_dw_conv): Conv2d(16, 16, kernel_size=(3, 1), stride=(1, 1), padding=(1, 0), dilation=(1, 4), groups=16, bias=False)\n",
       "    (ssn1): SubSpectralNorm(\n",
       "      (bn): BatchNorm2d(80, eps=1e-05, momentum=0.1, affine=True, track_running_stats=True)\n",
       "    )\n",
       "    (temp_dw_conv): Conv2d(16, 16, kernel_size=(1, 3), stride=(1, 1), padding=(0, 4), dilation=(1, 4), groups=16, bias=False)\n",
       "    (bn): BatchNorm2d(16, eps=1e-05, momentum=0.1, affine=True, track_running_stats=True)\n",
       "    (relu): ReLU(inplace=True)\n",
       "    (channel_drop): Dropout2d(p=0.1, inplace=False)\n",
       "    (swish): SiLU()\n",
       "    (conv1x1): Conv2d(16, 16, kernel_size=(1, 1), stride=(1, 1), bias=False)\n",
       "  )\n",
       "  (block3_4): BroadcastedBlock(\n",
       "    (freq_dw_conv): Conv2d(16, 16, kernel_size=(3, 1), stride=(1, 1), padding=(1, 0), dilation=(1, 4), groups=16, bias=False)\n",
       "    (ssn1): SubSpectralNorm(\n",
       "      (bn): BatchNorm2d(80, eps=1e-05, momentum=0.1, affine=True, track_running_stats=True)\n",
       "    )\n",
       "    (temp_dw_conv): Conv2d(16, 16, kernel_size=(1, 3), stride=(1, 1), padding=(0, 4), dilation=(1, 4), groups=16, bias=False)\n",
       "    (bn): BatchNorm2d(16, eps=1e-05, momentum=0.1, affine=True, track_running_stats=True)\n",
       "    (relu): ReLU(inplace=True)\n",
       "    (channel_drop): Dropout2d(p=0.1, inplace=False)\n",
       "    (swish): SiLU()\n",
       "    (conv1x1): Conv2d(16, 16, kernel_size=(1, 1), stride=(1, 1), bias=False)\n",
       "  )\n",
       "  (block4_1): TransitionBlock(\n",
       "    (freq_dw_conv): Conv2d(20, 20, kernel_size=(3, 1), stride=(1, 1), padding=(1, 0), dilation=(1, 8), groups=20, bias=False)\n",
       "    (ssn): SubSpectralNorm(\n",
       "      (bn): BatchNorm2d(100, eps=1e-05, momentum=0.1, affine=True, track_running_stats=True)\n",
       "    )\n",
       "    (temp_dw_conv): Conv2d(20, 20, kernel_size=(1, 3), stride=(1, 1), padding=(0, 8), dilation=(1, 8), groups=20, bias=False)\n",
       "    (bn1): BatchNorm2d(20, eps=1e-05, momentum=0.1, affine=True, track_running_stats=True)\n",
       "    (bn2): BatchNorm2d(20, eps=1e-05, momentum=0.1, affine=True, track_running_stats=True)\n",
       "    (relu): ReLU(inplace=True)\n",
       "    (channel_drop): Dropout2d(p=0.5, inplace=False)\n",
       "    (swish): SiLU()\n",
       "    (conv1x1_1): Conv2d(16, 20, kernel_size=(1, 1), stride=(1, 1), bias=False)\n",
       "    (conv1x1_2): Conv2d(20, 20, kernel_size=(1, 1), stride=(1, 1), bias=False)\n",
       "  )\n",
       "  (block4_2): BroadcastedBlock(\n",
       "    (freq_dw_conv): Conv2d(20, 20, kernel_size=(3, 1), stride=(1, 1), padding=(1, 0), dilation=(1, 8), groups=20, bias=False)\n",
       "    (ssn1): SubSpectralNorm(\n",
       "      (bn): BatchNorm2d(100, eps=1e-05, momentum=0.1, affine=True, track_running_stats=True)\n",
       "    )\n",
       "    (temp_dw_conv): Conv2d(20, 20, kernel_size=(1, 3), stride=(1, 1), padding=(0, 8), dilation=(1, 8), groups=20, bias=False)\n",
       "    (bn): BatchNorm2d(20, eps=1e-05, momentum=0.1, affine=True, track_running_stats=True)\n",
       "    (relu): ReLU(inplace=True)\n",
       "    (channel_drop): Dropout2d(p=0.1, inplace=False)\n",
       "    (swish): SiLU()\n",
       "    (conv1x1): Conv2d(20, 20, kernel_size=(1, 1), stride=(1, 1), bias=False)\n",
       "  )\n",
       "  (block4_3): BroadcastedBlock(\n",
       "    (freq_dw_conv): Conv2d(20, 20, kernel_size=(3, 1), stride=(1, 1), padding=(1, 0), dilation=(1, 8), groups=20, bias=False)\n",
       "    (ssn1): SubSpectralNorm(\n",
       "      (bn): BatchNorm2d(100, eps=1e-05, momentum=0.1, affine=True, track_running_stats=True)\n",
       "    )\n",
       "    (temp_dw_conv): Conv2d(20, 20, kernel_size=(1, 3), stride=(1, 1), padding=(0, 8), dilation=(1, 8), groups=20, bias=False)\n",
       "    (bn): BatchNorm2d(20, eps=1e-05, momentum=0.1, affine=True, track_running_stats=True)\n",
       "    (relu): ReLU(inplace=True)\n",
       "    (channel_drop): Dropout2d(p=0.1, inplace=False)\n",
       "    (swish): SiLU()\n",
       "    (conv1x1): Conv2d(20, 20, kernel_size=(1, 1), stride=(1, 1), bias=False)\n",
       "  )\n",
       "  (block4_4): BroadcastedBlock(\n",
       "    (freq_dw_conv): Conv2d(20, 20, kernel_size=(3, 1), stride=(1, 1), padding=(1, 0), dilation=(1, 8), groups=20, bias=False)\n",
       "    (ssn1): SubSpectralNorm(\n",
       "      (bn): BatchNorm2d(100, eps=1e-05, momentum=0.1, affine=True, track_running_stats=True)\n",
       "    )\n",
       "    (temp_dw_conv): Conv2d(20, 20, kernel_size=(1, 3), stride=(1, 1), padding=(0, 8), dilation=(1, 8), groups=20, bias=False)\n",
       "    (bn): BatchNorm2d(20, eps=1e-05, momentum=0.1, affine=True, track_running_stats=True)\n",
       "    (relu): ReLU(inplace=True)\n",
       "    (channel_drop): Dropout2d(p=0.1, inplace=False)\n",
       "    (swish): SiLU()\n",
       "    (conv1x1): Conv2d(20, 20, kernel_size=(1, 1), stride=(1, 1), bias=False)\n",
       "  )\n",
       "  (conv2): Conv2d(20, 20, kernel_size=(5, 5), stride=(1, 1), padding=(0, 2), groups=20)\n",
       "  (conv3): Conv2d(20, 32, kernel_size=(1, 1), stride=(1, 1), bias=False)\n",
       "  (conv4): Conv2d(32, 12, kernel_size=(1, 1), stride=(1, 1), bias=False)\n",
       "  (mel_layer): MelSpectrogram(\n",
       "    Mel filter banks size = (40, 241), trainable_mel=False\n",
       "    (stft): STFT(n_fft=480, Fourier Kernel size=(241, 1, 480), iSTFT=False, trainable=False)\n",
       "  )\n",
       "  (criterion): CrossEntropyLoss()\n",
       ")"
      ]
     },
     "execution_count": 29,
     "metadata": {},
     "output_type": "execute_result"
    }
   ],
   "source": [
    "cfg.model.args.input_dim = cfg.model.spec_args.n_mels *101 \n",
    "train_setting=cfg.model.spec_args.trainable_mel\n",
    "n_mel=cfg.model.spec_args.n_mels\n",
    "stft = cfg.model.spec_args.trainable_STFT\n",
    "net = getattr(Model, cfg.model.model_type)\n",
    "\n",
    "net.load_from_checkpoint('lightning_logs/version_0/checkpoints/last.ckpt', cfg_model=cfg.model)"
   ]
  },
  {
   "cell_type": "markdown",
   "id": "be2ee9d6",
   "metadata": {},
   "source": [
    "# Testing the performance"
   ]
  },
  {
   "cell_type": "code",
   "execution_count": 32,
   "id": "e2cf34eb",
   "metadata": {},
   "outputs": [
    {
     "name": "stderr",
     "output_type": "stream",
     "text": [
      "GPU available: True, used: True\n",
      "TPU available: False, using: 0 TPU cores\n",
      "IPU available: False, using: 0 IPUs\n"
     ]
    },
    {
     "ename": "AttributeError",
     "evalue": "'property' object has no attribute 'items'",
     "output_type": "error",
     "traceback": [
      "\u001b[0;31m---------------------------------------------------------------------------\u001b[0m",
      "\u001b[0;31mAttributeError\u001b[0m                            Traceback (most recent call last)",
      "Input \u001b[0;32mIn [32]\u001b[0m, in \u001b[0;36m<cell line: 2>\u001b[0;34m()\u001b[0m\n\u001b[1;32m      1\u001b[0m trainer \u001b[38;5;241m=\u001b[39m Trainer(\u001b[38;5;241m*\u001b[39m\u001b[38;5;241m*\u001b[39mcfg\u001b[38;5;241m.\u001b[39mtrainer)\n\u001b[0;32m----> 2\u001b[0m \u001b[43mtrainer\u001b[49m\u001b[38;5;241;43m.\u001b[39;49m\u001b[43mtest\u001b[49m\u001b[43m(\u001b[49m\u001b[43mnet\u001b[49m\u001b[43m,\u001b[49m\u001b[43m \u001b[49m\u001b[43mtestloader\u001b[49m\u001b[43m)\u001b[49m\n",
      "File \u001b[0;32m~/anaconda3/envs/paper3810/lib/python3.8/site-packages/pytorch_lightning/trainer/trainer.py:911\u001b[0m, in \u001b[0;36mTrainer.test\u001b[0;34m(self, model, dataloaders, ckpt_path, verbose, datamodule, test_dataloaders)\u001b[0m\n\u001b[1;32m    906\u001b[0m     rank_zero_deprecation(\n\u001b[1;32m    907\u001b[0m         \u001b[38;5;124m\"\u001b[39m\u001b[38;5;124m`trainer.test(test_dataloaders)` is deprecated in v1.4 and will be removed in v1.6.\u001b[39m\u001b[38;5;124m\"\u001b[39m\n\u001b[1;32m    908\u001b[0m         \u001b[38;5;124m\"\u001b[39m\u001b[38;5;124m Use `trainer.test(dataloaders)` instead.\u001b[39m\u001b[38;5;124m\"\u001b[39m\n\u001b[1;32m    909\u001b[0m     )\n\u001b[1;32m    910\u001b[0m     dataloaders \u001b[38;5;241m=\u001b[39m test_dataloaders\n\u001b[0;32m--> 911\u001b[0m \u001b[38;5;28;01mreturn\u001b[39;00m \u001b[38;5;28;43mself\u001b[39;49m\u001b[38;5;241;43m.\u001b[39;49m\u001b[43m_call_and_handle_interrupt\u001b[49m\u001b[43m(\u001b[49m\u001b[38;5;28;43mself\u001b[39;49m\u001b[38;5;241;43m.\u001b[39;49m\u001b[43m_test_impl\u001b[49m\u001b[43m,\u001b[49m\u001b[43m \u001b[49m\u001b[43mmodel\u001b[49m\u001b[43m,\u001b[49m\u001b[43m \u001b[49m\u001b[43mdataloaders\u001b[49m\u001b[43m,\u001b[49m\u001b[43m \u001b[49m\u001b[43mckpt_path\u001b[49m\u001b[43m,\u001b[49m\u001b[43m \u001b[49m\u001b[43mverbose\u001b[49m\u001b[43m,\u001b[49m\u001b[43m \u001b[49m\u001b[43mdatamodule\u001b[49m\u001b[43m)\u001b[49m\n",
      "File \u001b[0;32m~/anaconda3/envs/paper3810/lib/python3.8/site-packages/pytorch_lightning/trainer/trainer.py:685\u001b[0m, in \u001b[0;36mTrainer._call_and_handle_interrupt\u001b[0;34m(self, trainer_fn, *args, **kwargs)\u001b[0m\n\u001b[1;32m    675\u001b[0m \u001b[38;5;124mr\u001b[39m\u001b[38;5;124;03m\"\"\"\u001b[39;00m\n\u001b[1;32m    676\u001b[0m \u001b[38;5;124;03mError handling, intended to be used only for main trainer function entry points (fit, validate, test, predict)\u001b[39;00m\n\u001b[1;32m    677\u001b[0m \u001b[38;5;124;03mas all errors should funnel through them\u001b[39;00m\n\u001b[0;32m   (...)\u001b[0m\n\u001b[1;32m    682\u001b[0m \u001b[38;5;124;03m    **kwargs: keyword arguments to be passed to `trainer_fn`\u001b[39;00m\n\u001b[1;32m    683\u001b[0m \u001b[38;5;124;03m\"\"\"\u001b[39;00m\n\u001b[1;32m    684\u001b[0m \u001b[38;5;28;01mtry\u001b[39;00m:\n\u001b[0;32m--> 685\u001b[0m     \u001b[38;5;28;01mreturn\u001b[39;00m \u001b[43mtrainer_fn\u001b[49m\u001b[43m(\u001b[49m\u001b[38;5;241;43m*\u001b[39;49m\u001b[43margs\u001b[49m\u001b[43m,\u001b[49m\u001b[43m \u001b[49m\u001b[38;5;241;43m*\u001b[39;49m\u001b[38;5;241;43m*\u001b[39;49m\u001b[43mkwargs\u001b[49m\u001b[43m)\u001b[49m\n\u001b[1;32m    686\u001b[0m \u001b[38;5;66;03m# TODO: treat KeyboardInterrupt as BaseException (delete the code below) in v1.7\u001b[39;00m\n\u001b[1;32m    687\u001b[0m \u001b[38;5;28;01mexcept\u001b[39;00m \u001b[38;5;167;01mKeyboardInterrupt\u001b[39;00m \u001b[38;5;28;01mas\u001b[39;00m exception:\n",
      "File \u001b[0;32m~/anaconda3/envs/paper3810/lib/python3.8/site-packages/pytorch_lightning/trainer/trainer.py:954\u001b[0m, in \u001b[0;36mTrainer._test_impl\u001b[0;34m(self, model, dataloaders, ckpt_path, verbose, datamodule)\u001b[0m\n\u001b[1;32m    949\u001b[0m \u001b[38;5;28mself\u001b[39m\u001b[38;5;241m.\u001b[39mtested_ckpt_path \u001b[38;5;241m=\u001b[39m \u001b[38;5;28mself\u001b[39m\u001b[38;5;241m.\u001b[39m__set_ckpt_path(\n\u001b[1;32m    950\u001b[0m     ckpt_path, model_provided\u001b[38;5;241m=\u001b[39mmodel_provided, model_connected\u001b[38;5;241m=\u001b[39m\u001b[38;5;28mself\u001b[39m\u001b[38;5;241m.\u001b[39mlightning_module \u001b[38;5;129;01mis\u001b[39;00m \u001b[38;5;129;01mnot\u001b[39;00m \u001b[38;5;28;01mNone\u001b[39;00m\n\u001b[1;32m    951\u001b[0m )\n\u001b[1;32m    953\u001b[0m \u001b[38;5;66;03m# run test\u001b[39;00m\n\u001b[0;32m--> 954\u001b[0m results \u001b[38;5;241m=\u001b[39m \u001b[38;5;28;43mself\u001b[39;49m\u001b[38;5;241;43m.\u001b[39;49m\u001b[43m_run\u001b[49m\u001b[43m(\u001b[49m\u001b[43mmodel\u001b[49m\u001b[43m,\u001b[49m\u001b[43m \u001b[49m\u001b[43mckpt_path\u001b[49m\u001b[38;5;241;43m=\u001b[39;49m\u001b[38;5;28;43mself\u001b[39;49m\u001b[38;5;241;43m.\u001b[39;49m\u001b[43mtested_ckpt_path\u001b[49m\u001b[43m)\u001b[49m\n\u001b[1;32m    956\u001b[0m \u001b[38;5;28;01massert\u001b[39;00m \u001b[38;5;28mself\u001b[39m\u001b[38;5;241m.\u001b[39mstate\u001b[38;5;241m.\u001b[39mstopped\n\u001b[1;32m    957\u001b[0m \u001b[38;5;28mself\u001b[39m\u001b[38;5;241m.\u001b[39mtesting \u001b[38;5;241m=\u001b[39m \u001b[38;5;28;01mFalse\u001b[39;00m\n",
      "File \u001b[0;32m~/anaconda3/envs/paper3810/lib/python3.8/site-packages/pytorch_lightning/trainer/trainer.py:1120\u001b[0m, in \u001b[0;36mTrainer._run\u001b[0;34m(self, model, ckpt_path)\u001b[0m\n\u001b[1;32m   1115\u001b[0m \u001b[38;5;28;01mdef\u001b[39;00m \u001b[38;5;21m_run\u001b[39m(\n\u001b[1;32m   1116\u001b[0m     \u001b[38;5;28mself\u001b[39m, model: \u001b[38;5;124m\"\u001b[39m\u001b[38;5;124mpl.LightningModule\u001b[39m\u001b[38;5;124m\"\u001b[39m, ckpt_path: Optional[\u001b[38;5;28mstr\u001b[39m] \u001b[38;5;241m=\u001b[39m \u001b[38;5;28;01mNone\u001b[39;00m\n\u001b[1;32m   1117\u001b[0m ) \u001b[38;5;241m-\u001b[39m\u001b[38;5;241m>\u001b[39m Optional[Union[_EVALUATE_OUTPUT, _PREDICT_OUTPUT]]:\n\u001b[1;32m   1118\u001b[0m     \u001b[38;5;66;03m# clean hparams\u001b[39;00m\n\u001b[1;32m   1119\u001b[0m     \u001b[38;5;28;01mif\u001b[39;00m \u001b[38;5;28mhasattr\u001b[39m(model, \u001b[38;5;124m\"\u001b[39m\u001b[38;5;124mhparams\u001b[39m\u001b[38;5;124m\"\u001b[39m):\n\u001b[0;32m-> 1120\u001b[0m         \u001b[43mparsing\u001b[49m\u001b[38;5;241;43m.\u001b[39;49m\u001b[43mclean_namespace\u001b[49m\u001b[43m(\u001b[49m\u001b[43mmodel\u001b[49m\u001b[38;5;241;43m.\u001b[39;49m\u001b[43mhparams\u001b[49m\u001b[43m)\u001b[49m\n\u001b[1;32m   1122\u001b[0m     \u001b[38;5;66;03m# attach model to the training type plugin\u001b[39;00m\n\u001b[1;32m   1123\u001b[0m     \u001b[38;5;28mself\u001b[39m\u001b[38;5;241m.\u001b[39mtraining_type_plugin\u001b[38;5;241m.\u001b[39mconnect(model)\n",
      "File \u001b[0;32m~/anaconda3/envs/paper3810/lib/python3.8/site-packages/pytorch_lightning/utilities/parsing.py:101\u001b[0m, in \u001b[0;36mclean_namespace\u001b[0;34m(hparams)\u001b[0m\n\u001b[1;32m     98\u001b[0m \u001b[38;5;28;01mif\u001b[39;00m \u001b[38;5;28misinstance\u001b[39m(hparams, Namespace):\n\u001b[1;32m     99\u001b[0m     hparams_dict \u001b[38;5;241m=\u001b[39m hparams\u001b[38;5;241m.\u001b[39m\u001b[38;5;18m__dict__\u001b[39m\n\u001b[0;32m--> 101\u001b[0m del_attrs \u001b[38;5;241m=\u001b[39m [k \u001b[38;5;28;01mfor\u001b[39;00m k, v \u001b[38;5;129;01min\u001b[39;00m \u001b[43mhparams_dict\u001b[49m\u001b[38;5;241;43m.\u001b[39;49m\u001b[43mitems\u001b[49m() \u001b[38;5;28;01mif\u001b[39;00m \u001b[38;5;129;01mnot\u001b[39;00m is_picklable(v)]\n\u001b[1;32m    103\u001b[0m \u001b[38;5;28;01mfor\u001b[39;00m k \u001b[38;5;129;01min\u001b[39;00m del_attrs:\n\u001b[1;32m    104\u001b[0m     rank_zero_warn(\u001b[38;5;124mf\u001b[39m\u001b[38;5;124m\"\u001b[39m\u001b[38;5;124mattribute \u001b[39m\u001b[38;5;124m'\u001b[39m\u001b[38;5;132;01m{\u001b[39;00mk\u001b[38;5;132;01m}\u001b[39;00m\u001b[38;5;124m'\u001b[39m\u001b[38;5;124m removed from hparams because it cannot be pickled\u001b[39m\u001b[38;5;124m\"\u001b[39m)\n",
      "\u001b[0;31mAttributeError\u001b[0m: 'property' object has no attribute 'items'"
     ]
    }
   ],
   "source": [
    "trainer = Trainer(**cfg.trainer)\n",
    "trainer.test(net, testloader)\n",
    "#added validloader, in order to reach validation_step\n",
    "\n"
   ]
  },
  {
   "cell_type": "code",
   "execution_count": null,
   "id": "ed132cec",
   "metadata": {},
   "outputs": [],
   "source": []
  }
 ],
 "metadata": {
  "kernelspec": {
   "display_name": "paper3810",
   "language": "python",
   "name": "paper3810"
  },
  "language_info": {
   "codemirror_mode": {
    "name": "ipython",
    "version": 3
   },
   "file_extension": ".py",
   "mimetype": "text/x-python",
   "name": "python",
   "nbconvert_exporter": "python",
   "pygments_lexer": "ipython3",
   "version": "3.8.10"
  }
 },
 "nbformat": 4,
 "nbformat_minor": 5
}
