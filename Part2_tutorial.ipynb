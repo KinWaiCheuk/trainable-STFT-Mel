{
 "cells": [
  {
   "cell_type": "markdown",
   "id": "4ac60b08",
   "metadata": {},
   "source": [
    "# Part 2: Evaluation with Trainable Basis Functions"
   ]
  },
  {
   "cell_type": "code",
   "execution_count": 1,
   "id": "0b48aa69",
   "metadata": {},
   "outputs": [],
   "source": [
    "# Libraries related to PyTorch\n",
    "import torch\n",
    "from torch import Tensor\n",
    "import torchaudio \n",
    "import torch.nn as nn\n",
    "import torch.nn.functional as F\n",
    "from torch.nn.utils.rnn import pad_sequence\n",
    "from torch.utils.data import WeightedRandomSampler,DataLoader\n",
    "import torch.optim as optim\n",
    "\n",
    "# Libraries related to hydra\n",
    "import hydra\n",
    "from hydra.utils import to_absolute_path\n",
    "from omegaconf import DictConfig, OmegaConf\n",
    "\n",
    "# custom packages\n",
    "from dataset.speechcommands import SPEECHCOMMANDS_12C #for 12 classes KWS task\n",
    "import models as Model \n",
    "\n",
    "# Libraries related to PyTorch Lightning\n",
    "from pytorch_lightning import Trainer\n",
    "from pytorch_lightning.loggers import TensorBoardLogger\n",
    "from pytorch_lightning.callbacks import LearningRateMonitor, ModelCheckpoint\n",
    "from pytorch_lightning.core.lightning import LightningModule\n",
    "\n",
    "# Libraries used in ligthning module\n",
    "import matplotlib.pyplot as plt\n",
    "from sklearn.metrics import precision_recall_fscore_support\n",
    "from matplotlib.ticker import (MultipleLocator, AutoMinorLocator)\n",
    "from sklearn.metrics import precision_recall_fscore_support\n",
    "from dataset.speechcommands import idx2name, name2idx\n",
    "from sklearn.metrics import confusion_matrix\n",
    "import numpy as np\n",
    "import re\n",
    "import itertools\n",
    "\n",
    "# nnAudio Front-end\n",
    "from nnAudio.features.mel import MelSpectrogram, STFT"
   ]
  },
  {
   "cell_type": "markdown",
   "id": "dda8bc20",
   "metadata": {},
   "source": [
    "# Configuration "
   ]
  },
  {
   "cell_type": "code",
   "execution_count": 2,
   "id": "83e5941d",
   "metadata": {},
   "outputs": [],
   "source": [
    "device = 'cuda:0'\n",
    "gpus = 1\n",
    "batch_size= 100\n",
    "max_epochs = 200\n",
    "check_val_every_n_epoch = 2\n",
    "num_sanity_val_steps = 5\n",
    "\n",
    "data_root= './' # Download the data here\n",
    "download_option= False\n",
    "\n",
    "n_mels= 40 \n",
    "#number of Mel bases\n",
    "\n",
    "input_dim= (n_mels*101)\n",
    "output_dim= 12\n",
    "\n",
    "random_mel= False   \n",
    "#To control random initial mel bases  "
   ]
  },
  {
   "cell_type": "markdown",
   "id": "c765503a",
   "metadata": {},
   "source": [
    "# nnAudio guideline for trainable basis functions \n",
    "```\n",
    "nnAudio.features.mel.MelSpectrogram(trainable_mel= ,trainable_STFT=) \n",
    "```\n",
    "The function above is controlling if mel bases and STFT trainable\n",
    "\n",
    "* A. Both Mel and STFT are non-trainable: \n",
    "`trainable_mel=False, trainable_STFT=False`\n",
    "* B. Mel is trainable while STFT is fixed: \n",
    "`trainable_mel=True, trainable_STFT=False`\n",
    "* C. gMel is fixed while gSTFT is trainable: \n",
    "`trainable_mel=False, trainable_STFT=True`\n",
    "* D. Both gMel and gSTFT are trainable:\n",
    "`trainable_mel=True, trainable_STFT=True`"
   ]
  },
  {
   "cell_type": "code",
   "execution_count": 3,
   "id": "46ab9ded",
   "metadata": {},
   "outputs": [
    {
     "name": "stdout",
     "output_type": "stream",
     "text": [
      "STFT kernels created, time used = 0.1223 seconds\n",
      "STFT filter created, time used = 0.0023 seconds\n",
      "Mel filter created, time used = 0.0024 seconds\n"
     ]
    }
   ],
   "source": [
    "mel_layer = MelSpectrogram(sr=16000, \n",
    "                           n_fft=480,\n",
    "                           win_length=None,\n",
    "                           n_mels=n_mels, \n",
    "                           hop_length=160,\n",
    "                           window='hann',\n",
    "                           center=True,\n",
    "                           pad_mode='reflect',\n",
    "                           power=2.0,\n",
    "                           htk=False,\n",
    "                           fmin=0.0,\n",
    "                           fmax=None,\n",
    "                           norm=1,\n",
    "                           trainable_mel=False,\n",
    "                           trainable_STFT=True,\n",
    "                           verbose=True)"
   ]
  },
  {
   "cell_type": "markdown",
   "id": "3789b5b7",
   "metadata": {},
   "source": [
    "# Setting up dataset"
   ]
  },
  {
   "cell_type": "code",
   "execution_count": 4,
   "id": "33040bfe",
   "metadata": {},
   "outputs": [
    {
     "name": "stdout",
     "output_type": "stream",
     "text": [
      "basename='speech_commands_test_set_v0.02.tar.gz'\n"
     ]
    },
    {
     "name": "stderr",
     "output_type": "stream",
     "text": [
      "Loading testing set: 100%|████████████████████████████████████████████████████████████████████████████████████████████████████████████████████████████████████████████| 4890/4890 [00:01<00:00, 3445.95it/s]\n"
     ]
    }
   ],
   "source": [
    "testset = SPEECHCOMMANDS_12C(root=data_root,\n",
    "                              url='speech_commands_v0.02',\n",
    "                              folder_in_archive='SpeechCommands',\n",
    "                              download= download_option,subset= 'testing')"
   ]
  },
  {
   "cell_type": "markdown",
   "id": "ecfd65a8",
   "metadata": {},
   "source": [
    "# Data processing and loading"
   ]
  },
  {
   "cell_type": "code",
   "execution_count": 5,
   "id": "3b9a060d",
   "metadata": {},
   "outputs": [],
   "source": [
    "#Data processing\n",
    "def data_processing(data):\n",
    "    waveforms = []\n",
    "    labels = []\n",
    "    \n",
    "    for batch in data:\n",
    "        waveforms.append(batch[0].squeeze(0)) #after squeeze => (audio_len) tensor # remove batch dim\n",
    "        labels.append(batch[2])      \n",
    "        \n",
    "    waveform_padded = nn.utils.rnn.pad_sequence(waveforms, batch_first=True)  \n",
    "    \n",
    "    output_batch = {'waveforms': waveform_padded, \n",
    "             'labels': torch.tensor(labels),\n",
    "             }\n",
    "    return output_batch\n",
    "\n",
    "# load data\n",
    "testloader = DataLoader(testset,   \n",
    "                              collate_fn=lambda x: data_processing(x),\n",
    "                                        batch_size=batch_size)    "
   ]
  },
  {
   "cell_type": "markdown",
   "id": "f203f680",
   "metadata": {},
   "source": [
    "# Ligthning module"
   ]
  },
  {
   "cell_type": "code",
   "execution_count": 6,
   "id": "906b0fe5",
   "metadata": {},
   "outputs": [],
   "source": [
    "class SpeechCommand(LightningModule):\n",
    "    def training_step(self, batch, batch_idx):\n",
    "        outputs, spec = self(batch['waveforms']) \n",
    "        #return outputs [2D] for calculate loss, return spec [3D] for visual\n",
    "        loss = self.criterion(outputs, batch['labels'].long())\n",
    "\n",
    "        acc = sum(outputs.argmax(-1) == batch['labels'])/outputs.shape[0] #batch wise\n",
    "        \n",
    "        self.log('Train/acc', acc, on_step=False, on_epoch=True)\n",
    "        if batch_idx == 0:\n",
    "            self.log_images(spec, 'Train/Spec')\n",
    "            cm = plot_confusion_matrix(batch['labels'].cpu(),\n",
    "                                       outputs.argmax(-1).cpu(),\n",
    "                                       name2idx.keys(),\n",
    "                                       title='Train: Confusion matrix',\n",
    "                                       normalize=False)\n",
    "            self.logger.experiment.add_figure('Train/confusion_maxtrix', cm, global_step=self.current_epoch)            \n",
    "        self.log('Train/Loss', loss, on_step=False, on_epoch=True)\n",
    "        #log(graph title, take acc as data, on_step: plot every step, on_epch: plot every epoch)\n",
    "        return loss\n",
    "\n",
    "     \n",
    "    def optimizer_step(self, epoch, batch_idx, optimizer, optimizer_idx,\n",
    "                       optimizer_closure, on_tpu, using_native_amp, using_lbfgs):\n",
    "        \n",
    "        optimizer.step(closure=optimizer_closure)\n",
    "        with torch.no_grad():\n",
    "            torch.clamp_(self.mel_layer.mel_basis, 0, 1)\n",
    "        #after optimizer step, do clamp function on mel_basis (only applicable for nnAudio)\n",
    "        #FastAudio internal has clamp function\n",
    "        \n",
    "   \n",
    "    def validation_step(self, batch, batch_idx):               \n",
    "        outputs, spec = self(batch['waveforms'])\n",
    "        loss = self.criterion(outputs, batch['labels'].long())        \n",
    "       \n",
    "        self.log('Validation/Loss', loss, on_step=False, on_epoch=True)          \n",
    "\n",
    "        if batch_idx == 0:\n",
    "            fig, axes = plt.subplots(1,1)            \n",
    "            mel_filter_banks = self.mel_layer.mel_basis\n",
    "            for i in mel_filter_banks:\n",
    "                axes.plot(i.cpu())\n",
    "\n",
    "            self.logger.experiment.add_figure(\n",
    "                'Validation/MelFilterBanks',\n",
    "                fig,\n",
    "                global_step=self.current_epoch)\n",
    "                \n",
    "        #these is for plot mel filter band in nnAudio \n",
    "        #fbank_matrix contain all FastAudio filterbank value (mel bases)\n",
    "        \n",
    "        if batch_idx == 0:           \n",
    "            fig, axes = plt.subplots(2,2)\n",
    "            for ax, kernel_num in zip(axes.flatten(), [2,10,20,50]):\n",
    "                ax.plot(self.mel_layer.stft.wsin[kernel_num,0].cpu())  #STFT in included in Melspectrogram()\n",
    "                ax.set_ylim(-1,1)\n",
    "                fig.suptitle('sin')\n",
    "\n",
    "            self.logger.experiment.add_figure(\n",
    "                    'Validation/sin',\n",
    "                    fig,\n",
    "                    global_step=self.current_epoch)\n",
    "\n",
    "            fig, axes = plt.subplots(2,2)\n",
    "            for ax, kernel_num in zip(axes.flatten(), [2,10,20,50]):\n",
    "                ax.plot(self.mel_layer.stft.wcos[kernel_num,0].cpu())\n",
    "                ax.set_ylim(-1,1)\n",
    "                fig.suptitle('cos')\n",
    "\n",
    "            self.logger.experiment.add_figure(\n",
    "                    'Validation/cos',\n",
    "                    fig,\n",
    "                    global_step=self.current_epoch)\n",
    "\n",
    "        self.log_images(spec, 'Validation/Spec')\n",
    "        #plot log_images for 1st epoch_1st batch\n",
    "        \n",
    "            \n",
    "        output_dict = {'outputs': outputs,\n",
    "                       'labels': batch['labels']}        \n",
    "        return output_dict\n",
    "\n",
    "    \n",
    "    def validation_epoch_end(self, outputs):\n",
    "        pred = []\n",
    "        label = []\n",
    "        for output in outputs:\n",
    "            pred.append(output['outputs'])\n",
    "            label.append(output['labels'])\n",
    "        label = torch.cat(label, 0)\n",
    "        pred = torch.cat(pred, 0)\n",
    "        acc = sum(pred.argmax(-1) == label)/label.shape[0]\n",
    "        \n",
    "        cm = plot_confusion_matrix(label.cpu(),\n",
    "                                   pred.argmax(-1).cpu(),\n",
    "                                   name2idx.keys(),\n",
    "                                   title='Validation: Confusion matrix',\n",
    "                                   normalize=False)\n",
    "        self.logger.experiment.add_figure('Validation/confusion_maxtrix', cm, global_step=self.current_epoch)\n",
    "        \n",
    "        self.log('Validation/acc', acc, on_step=False, on_epoch=True)    \n",
    "        #use the return value from validation_step: output_dict , to calculate the overall accuracy   \n",
    "        #epoch wise \n",
    "                              \n",
    "    def test_step(self, batch, batch_idx):               \n",
    "        outputs, spec = self(batch['waveforms'])\n",
    "        loss = self.criterion(outputs, batch['labels'].long())        \n",
    "\n",
    "        self.log('Test/Loss', loss, on_step=False, on_epoch=True)          \n",
    "\n",
    "        if batch_idx == 0:\n",
    "            fig, axes = plt.subplots(1,1)           \n",
    "            mel_filter_banks = self.mel_layer.mel_basis\n",
    "            for i in mel_filter_banks:\n",
    "                axes.plot(i.cpu())\n",
    "\n",
    "            self.logger.experiment.add_figure(\n",
    "                'Test/MelFilterBanks',\n",
    "                fig,\n",
    "                global_step=self.current_epoch)\n",
    "                \n",
    "        #for plotting mel bases in nnAudio \n",
    "        #fbank_matrix contain all FastAudio filterbank value (mel bases)\n",
    "            \n",
    "            self.log_images(spec, 'Test/Spec')\n",
    "        #plot log_images for 1st epoch_1st batch\n",
    "        \n",
    "        output_dict = {'outputs': outputs,\n",
    "                       'labels': batch['labels']}        \n",
    "        return output_dict\n",
    "\n",
    "    \n",
    "    def test_epoch_end(self, outputs):\n",
    "        pred = []\n",
    "        label = []\n",
    "        for output in outputs:\n",
    "            pred.append(output['outputs'])\n",
    "            label.append(output['labels'])\n",
    "        label = torch.cat(label, 0)\n",
    "        pred = torch.cat(pred, 0)\n",
    "        \n",
    "        result_dict = {}\n",
    "        for key in [None, 'micro', 'macro', 'weighted']:\n",
    "            result_dict[key] = {}\n",
    "            p, r, f1, _ = precision_recall_fscore_support(label.cpu(), pred.argmax(-1).cpu(), average=key, zero_division=0)\n",
    "            result_dict[key]['precision'] = p\n",
    "            result_dict[key]['recall'] = r\n",
    "            result_dict[key]['f1'] = f1\n",
    "            \n",
    "        barplot(result_dict, 'precision')\n",
    "        barplot(result_dict, 'recall')\n",
    "        barplot(result_dict, 'f1')\n",
    "            \n",
    "        acc = sum(pred.argmax(-1) == label)/label.shape[0]\n",
    "        self.log('Test/acc', acc, on_step=False, on_epoch=True)\n",
    "        \n",
    "        self.log('Test/micro_f1', result_dict['micro']['f1'], on_step=False, on_epoch=True)\n",
    "        self.log('Test/macro_f1', result_dict['macro']['f1'], on_step=False, on_epoch=True)\n",
    "        self.log('Test/weighted_f1', result_dict['weighted']['f1'], on_step=False, on_epoch=True)\n",
    "        \n",
    "        cm = plot_confusion_matrix(label.cpu(),\n",
    "                                   pred.argmax(-1).cpu(),\n",
    "                                   name2idx.keys(),\n",
    "                                   title='Test: Confusion matrix',\n",
    "                                   normalize=False)\n",
    "        self.logger.experiment.add_figure('Test/confusion_maxtrix', cm, global_step=self.current_epoch)        \n",
    "        \n",
    "        torch.save(result_dict, \"result_dict.pt\")        \n",
    "        \n",
    "        return result_dict\n",
    "        \n",
    "    def log_images(self, tensors, key):\n",
    "        fig, axes = plt.subplots(2,2, figsize=(12,5), dpi=100)\n",
    "        for ax, tensor in zip(axes.flatten(), tensors):\n",
    "            ax.imshow(tensor.cpu().detach(), aspect='auto', origin='lower', cmap='jet')\n",
    "        plt.tight_layout()\n",
    "        self.logger.experiment.add_figure(f\"{key}\", fig, global_step=self.current_epoch)\n",
    "        plt.close(fig)\n",
    "        #plot images in TensorBoard        \n",
    "    \n",
    "    \n",
    "    def configure_optimizers(self):\n",
    "        model_param = []\n",
    "        for name, params in self.named_parameters():\n",
    "            if 'mel_layer.' in name:\n",
    "                pass\n",
    "            else:\n",
    "                model_param.append(params)          \n",
    "        optimizer = optim.SGD([\n",
    "                                {\"params\": self.mel_layer.parameters(),\n",
    "                                 \"lr\": 1e-3,\n",
    "                                 \"momentum\": 0.9,\n",
    "                                 \"weight_decay\": 0.001},\n",
    "                                {\"params\": model_param,\n",
    "                                 \"lr\": 1e-3,\n",
    "                                 \"momentum\": 0.9,\n",
    "                                 \"weight_decay\": 0.001}            \n",
    "                              ])\n",
    "        #for applying diff lr in model and mel bases function       \n",
    "\n",
    "\n",
    "def barplot(result_dict, title, figsize=(4,12), minor_interval=0.2, log=False):\n",
    "    fig, ax = plt.subplots(1,1, figsize=figsize)\n",
    "    metric = {}\n",
    "    for idx, item in enumerate(result_dict[None][title]):\n",
    "        metric[idx2name[idx]] = item\n",
    "    xlabels = list(metric.keys())\n",
    "    values = list(metric.values())\n",
    "    if log:\n",
    "        values = np.log(values)\n",
    "    ax.barh(xlabels, values)\n",
    "    ax.tick_params(labeltop=True, labelright=False)\n",
    "    ax.xaxis.grid(True, which='minor')\n",
    "    ax.xaxis.set_minor_locator(MultipleLocator(minor_interval))\n",
    "    ax.set_ylim([-1,len(xlabels)])\n",
    "    ax.set_title(title)\n",
    "    ax.grid(axis='x')\n",
    "    ax.grid(b=True, which='minor', linestyle='--')\n",
    "    fig.savefig(f'{title}.png', bbox_inches='tight')\n",
    "    fig.tight_layout() # prevent edge from missing\n",
    "#         fig.set_tight_layout(True)\n",
    "    return fig\n",
    "          \n",
    "    \n",
    "def plot_confusion_matrix(correct_labels,\n",
    "                          predict_labels,\n",
    "                          labels,\n",
    "                          title='Confusion matrix',\n",
    "                          normalize=False):\n",
    "    ''' \n",
    "    Parameters:\n",
    "        correct_labels                  : These are your true classification categories.\n",
    "        predict_labels                  : These are you predicted classification categories\n",
    "        labels                          : This is a lit of labels which will be used to display the axix labels\n",
    "        title='Confusion matrix'        : Title for your matrix\n",
    "        tensor_name = 'MyFigure/image'  : Name for the output summay tensor\n",
    "\n",
    "    Returns:\n",
    "        summary: TensorFlow summary \n",
    "\n",
    "    Other itema to note:\n",
    "        - Depending on the number of category and the data , you may have to modify the figzie, font sizes etc. \n",
    "        - Currently, some of the ticks dont line up due to rotations.\n",
    "    '''\n",
    "    cm = confusion_matrix(correct_labels, predict_labels, labels=range(len(labels)))\n",
    "    if normalize:\n",
    "        cm = cm.astype('float')*10 / cm.sum(axis=1)[:, np.newaxis]\n",
    "        cm = np.nan_to_num(cm, copy=True)\n",
    "        cm = cm.astype('int')\n",
    "\n",
    "    np.set_printoptions(precision=2)\n",
    "\n",
    "    fig, ax = plt.subplots(1, 1, figsize=(7, 7), dpi=160, facecolor='w', edgecolor='k')\n",
    "    im = ax.imshow(cm, cmap='Oranges')\n",
    "\n",
    "    classes = [re.sub(r'([a-z](?=[A-Z])|[A-Z](?=[A-Z][a-z]))', r'\\1 ', x) for x in labels]\n",
    "    #classes = ['\\n'.join(l) for l in classes]\n",
    "\n",
    "    tick_marks = np.arange(len(classes))\n",
    "\n",
    "    ax.set_xlabel('Predicted', fontsize=7)\n",
    "    ax.set_xticks(tick_marks)\n",
    "    c = ax.set_xticklabels(classes, fontsize=6, rotation=0,  ha='center')\n",
    "    ax.xaxis.set_label_position('bottom')\n",
    "    ax.xaxis.tick_bottom()\n",
    "\n",
    "    ax.set_ylabel('True Label', fontsize=7)\n",
    "    ax.set_yticks(tick_marks)\n",
    "    ax.set_yticklabels(classes, fontsize=6, va ='center')\n",
    "    ax.yaxis.set_label_position('left')\n",
    "    ax.yaxis.tick_left()\n",
    "\n",
    "    for i, j in itertools.product(range(cm.shape[0]), range(cm.shape[1])):\n",
    "        ax.text(j, i, format(cm[i, j], 'd') if cm[i,j]!=0 else '.', horizontalalignment=\"center\", fontsize=6, verticalalignment='center', color= \"black\")\n",
    "    fig.set_tight_layout(True)\n",
    "\n",
    "\n",
    "    return fig"
   ]
  },
  {
   "cell_type": "markdown",
   "id": "ddf02e55",
   "metadata": {},
   "source": [
    "# Setting up model"
   ]
  },
  {
   "cell_type": "code",
   "execution_count": 7,
   "id": "07cdec5c",
   "metadata": {},
   "outputs": [],
   "source": [
    "class Linearmodel_nnAudio(SpeechCommand):\n",
    "    def __init__(self): \n",
    "        super().__init__()\n",
    "        self.mel_layer = mel_layer       \n",
    "        self.criterion = nn.CrossEntropyLoss()\n",
    "        self.linearlayer = nn.Linear(input_dim, output_dim)\n",
    "        #cfg.model.args.input_dim will be calculated in training script \n",
    "   \n",
    "        if random_mel == True:\n",
    "            nn.init.kaiming_uniform_(self.mel_layer.mel_basis, mode='fan_in')\n",
    "            self.mel_layer.mel_basis.requires_grad = False\n",
    "            torch.relu_(self.mel_layer.mel_basis)\n",
    "            self.mel_layer.mel_basis.requires_grad = True\n",
    "            #for randomly initialize mel bases\n",
    "    \n",
    "    def forward(self, x): \n",
    "        #x: 2D [B, 16000]\n",
    "        spec = self.mel_layer(x)  \n",
    "        #spec: 3D [B, F40, T101]\n",
    "        \n",
    "        spec = torch.log(spec+1e-10)\n",
    "        flatten_spec = torch.flatten(spec, start_dim=1) \n",
    "        #flatten_spec: 2D [B, F*T(40*101)] \n",
    "        #start_dim: flattening start from 1st dimention\n",
    "        \n",
    "        out = self.linearlayer(flatten_spec) \n",
    "        #out: 2D [B,number of class(12)] \n",
    "                               \n",
    "        return out, spec \n",
    "\n",
    "# nnAudio is integrated into the model at line 50 of models/nnAudio_model.py \n",
    "net = Linearmodel_nnAudio()"
   ]
  },
  {
   "cell_type": "code",
   "execution_count": 8,
   "id": "93fcf55f",
   "metadata": {},
   "outputs": [],
   "source": [
    "net = net.to(device)"
   ]
  },
  {
   "cell_type": "markdown",
   "id": "261242f8",
   "metadata": {},
   "source": [
    "# Loading pretrained weight"
   ]
  },
  {
   "cell_type": "code",
   "execution_count": 9,
   "id": "5b000f29",
   "metadata": {},
   "outputs": [
    {
     "data": {
      "text/plain": [
       "Linearmodel_nnAudio(\n",
       "  (mel_layer): MelSpectrogram(\n",
       "    Mel filter banks size = (40, 241), trainable_mel=False\n",
       "    (stft): STFT(n_fft=480, Fourier Kernel size=(241, 1, 480), iSTFT=False, trainable=True)\n",
       "  )\n",
       "  (criterion): CrossEntropyLoss()\n",
       "  (linearlayer): Linear(in_features=4040, out_features=12, bias=True)\n",
       ")"
      ]
     },
     "execution_count": 9,
     "metadata": {},
     "output_type": "execute_result"
    }
   ],
   "source": [
    "# net.load_from_checkpoint('/workspace/helen/trainable-STFT-Mel/multirun/2022-04-02/23-01-35/1/SGD-n_mels=40-Linearmodel_nnAudio-mel=True-STFT=False-speechcommand/version_1/checkpoints/last.ckpt')"
   ]
  },
  {
   "cell_type": "code",
   "execution_count": 15,
   "id": "debd651e",
   "metadata": {},
   "outputs": [
    {
     "data": {
      "text/plain": [
       "Linearmodel_nnAudio(\n",
       "  (mel_layer): MelSpectrogram(\n",
       "    Mel filter banks size = (40, 241), trainable_mel=False\n",
       "    (stft): STFT(n_fft=480, Fourier Kernel size=(241, 1, 480), iSTFT=False, trainable=True)\n",
       "  )\n",
       "  (criterion): CrossEntropyLoss()\n",
       "  (linearlayer): Linear(in_features=4040, out_features=12, bias=True)\n",
       ")"
      ]
     },
     "execution_count": 15,
     "metadata": {},
     "output_type": "execute_result"
    }
   ],
   "source": [
    "net.load_from_checkpoint('pretrained_weight/SGD-n_mels=40-Linearmodel_nnAudio-mel=True-STFT=False-speechcommand/version_1/checkpoints/last.ckpt')"
   ]
  },
  {
   "cell_type": "markdown",
   "id": "14d01b8a",
   "metadata": {},
   "source": [
    "# Testing the model performance"
   ]
  },
  {
   "cell_type": "code",
   "execution_count": 14,
   "id": "e2cf34eb",
   "metadata": {},
   "outputs": [
    {
     "name": "stderr",
     "output_type": "stream",
     "text": [
      "GPU available: True, used: True\n",
      "TPU available: False, using: 0 TPU cores\n",
      "IPU available: False, using: 0 IPUs\n",
      "LOCAL_RANK: 0 - CUDA_VISIBLE_DEVICES: [0,1,2,3]\n",
      "/root/anaconda3/envs/python3.8.10/lib/python3.8/site-packages/pytorch_lightning/trainer/data_loading.py:132: UserWarning: The dataloader, test_dataloader 0, does not have many workers which may be a bottleneck. Consider increasing the value of the `num_workers` argument` (try 40 which is the number of cpus on this machine) in the `DataLoader` init to improve performance.\n",
      "  rank_zero_warn(\n"
     ]
    },
    {
     "name": "stdout",
     "output_type": "stream",
     "text": [
      "Testing:  84%|████████████████████████████████████████████████████████████████████████████████████████████████████████████████████████████████████▏                         | 41/49 [00:01<00:00, 50.20it/s]"
     ]
    },
    {
     "name": "stderr",
     "output_type": "stream",
     "text": [
      "/tmp/ipykernel_24137/3003781365.py:219: MatplotlibDeprecationWarning: The 'b' parameter of grid() has been renamed 'visible' since Matplotlib 3.5; support for the old name will be dropped two minor releases later.\n",
      "  ax.grid(b=True, which='minor', linestyle='--')\n",
      "/tmp/ipykernel_24137/3003781365.py:219: MatplotlibDeprecationWarning: The 'b' parameter of grid() has been renamed 'visible' since Matplotlib 3.5; support for the old name will be dropped two minor releases later.\n",
      "  ax.grid(b=True, which='minor', linestyle='--')\n",
      "/tmp/ipykernel_24137/3003781365.py:219: MatplotlibDeprecationWarning: The 'b' parameter of grid() has been renamed 'visible' since Matplotlib 3.5; support for the old name will be dropped two minor releases later.\n",
      "  ax.grid(b=True, which='minor', linestyle='--')\n"
     ]
    },
    {
     "name": "stdout",
     "output_type": "stream",
     "text": [
      "--------------------------------------------------------------------------------\n",
      "DATALOADER:0 TEST RESULTS\n",
      "{'Test/Loss': 4.453145503997803,\n",
      " 'Test/acc': 0.09918200969696045,\n",
      " 'Test/macro_f1': 0.07309805601835251,\n",
      " 'Test/micro_f1': 0.09918200224637985,\n",
      " 'Test/weighted_f1': 0.07303325086832047}\n",
      "--------------------------------------------------------------------------------\n",
      "Testing: 100%|██████████████████████████████████████████████████████████████████████████████████████████████████████████████████████████████████████████████████████████████| 49/49 [00:04<00:00, 11.96it/s]\n"
     ]
    },
    {
     "data": {
      "text/plain": [
       "[{'Test/Loss': 4.453145503997803,\n",
       "  'Test/acc': 0.09918200969696045,\n",
       "  'Test/micro_f1': 0.09918200224637985,\n",
       "  'Test/macro_f1': 0.07309805601835251,\n",
       "  'Test/weighted_f1': 0.07303325086832047}]"
      ]
     },
     "execution_count": 14,
     "metadata": {},
     "output_type": "execute_result"
    },
    {
     "data": {
      "image/png": "[encoded data removed]",
      "text/plain": [
       "<Figure size 288x864 with 1 Axes>"
      ]
     },
     "metadata": {
      "needs_background": "light"
     },
     "output_type": "display_data"
    },
    {
     "data": {
      "image/png": "[encoded data removed]",
      "text/plain": [
       "<Figure size 288x864 with 1 Axes>"
      ]
     },
     "metadata": {
      "needs_background": "light"
     },
     "output_type": "display_data"
    },
    {
     "data": {
      "image/png": "[encoded data removed]",
      "text/plain": [
       "<Figure size 288x864 with 1 Axes>"
      ]
     },
     "metadata": {
      "needs_background": "light"
     },
     "output_type": "display_data"
    }
   ],
   "source": [
    "trainer = Trainer(gpus=gpus, max_epochs=max_epochs,\n",
    "    check_val_every_n_epoch= check_val_every_n_epoch,\n",
    "    num_sanity_val_steps=num_sanity_val_steps)\n",
    "\n",
    "trainer.test(net, testloader)\n",
    "#added validloader, in order to reach validation_step"
   ]
  },
  {
   "cell_type": "code",
   "execution_count": null,
   "id": "5132c4c5",
   "metadata": {},
   "outputs": [],
   "source": []
  }
 ],
 "metadata": {
  "kernelspec": {
   "display_name": "python3.8.10",
   "language": "python",
   "name": "python3.8.10"
  },
  "language_info": {
   "codemirror_mode": {
    "name": "ipython",
    "version": 3
   },
   "file_extension": ".py",
   "mimetype": "text/x-python",
   "name": "python",
   "nbconvert_exporter": "python",
   "pygments_lexer": "ipython3",
   "version": "3.8.10"
  }
 },
 "nbformat": 4,
 "nbformat_minor": 5
}
