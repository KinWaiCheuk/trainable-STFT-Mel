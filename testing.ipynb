{
 "cells": [
  {
   "cell_type": "code",
   "execution_count": 18,
   "id": "866844a6",
   "metadata": {},
   "outputs": [],
   "source": [
    "class Summation():\n",
    "    def __call__(self, a,b):\n",
    "        return a+b"
   ]
  },
  {
   "cell_type": "code",
   "execution_count": 19,
   "id": "5659cd47",
   "metadata": {},
   "outputs": [],
   "source": [
    "operator = Summation()"
   ]
  },
  {
   "cell_type": "code",
   "execution_count": 20,
   "id": "d4b141f9",
   "metadata": {},
   "outputs": [
    {
     "data": {
      "text/plain": [
       "3"
      ]
     },
     "execution_count": 20,
     "metadata": {},
     "output_type": "execute_result"
    }
   ],
   "source": [
    "operator(1,2)"
   ]
  },
  {
   "cell_type": "code",
   "execution_count": 2,
   "id": "4198bb25",
   "metadata": {},
   "outputs": [],
   "source": [
    "# calculator.py\n",
    "import argparse"
   ]
  },
  {
   "cell_type": "code",
   "execution_count": 3,
   "id": "08cc8c0f",
   "metadata": {},
   "outputs": [],
   "source": [
    "# create the parser\n",
    "calculator = argparse.ArgumentParser(description='calculate the sum of 2 number')"
   ]
  },
  {
   "cell_type": "code",
   "execution_count": 7,
   "id": "e2e94864",
   "metadata": {},
   "outputs": [
    {
     "data": {
      "text/plain": [
       "_StoreAction(option_strings=[], dest='Number', nargs=None, const=None, default=None, type=<class 'float'>, choices=None, help='the number that you want to add', metavar='number')"
      ]
     },
     "execution_count": 7,
     "metadata": {},
     "output_type": "execute_result"
    }
   ],
   "source": [
    "# add the arguments\n",
    "# metavar: provides a diff name for optional argument in heko messages \n",
    "\n",
    "calculator.add_argument('Number1',metavar='number', type=float, \n",
    "                        help='the number that you want to add')\n",
    "\n",
    "calculator.add_argument('Number2',metavar='number', type=float, \n",
    "                        help='the number that you want to add')"
   ]
  },
  {
   "cell_type": "code",
   "execution_count": null,
   "id": "e3a47007",
   "metadata": {},
   "outputs": [],
   "source": [
    "# execute the parse_args() method\n",
    "= calculator.parse_args().Number1 \n",
    "\n",
    "    \n",
    "print(input_path)"
   ]
  },
  {
   "cell_type": "code",
   "execution_count": null,
   "id": "906dfc19",
   "metadata": {},
   "outputs": [],
   "source": []
  }
 ],
 "metadata": {
  "kernelspec": {
   "display_name": "python3.8.10",
   "language": "python",
   "name": "python3.8.10"
  },
  "language_info": {
   "codemirror_mode": {
    "name": "ipython",
    "version": 3
   },
   "file_extension": ".py",
   "mimetype": "text/x-python",
   "name": "python",
   "nbconvert_exporter": "python",
   "pygments_lexer": "ipython3",
   "version": "3.9.7"
  }
 },
 "nbformat": 4,
 "nbformat_minor": 5
}
